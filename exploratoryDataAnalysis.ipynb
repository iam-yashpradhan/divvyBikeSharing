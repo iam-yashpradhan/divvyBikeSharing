{
 "cells": [
  {
   "cell_type": "markdown",
   "id": "transsexual-linux",
   "metadata": {
    "papermill": {
     "duration": 0.041182,
     "end_time": "2021-05-04T12:09:16.752124",
     "exception": false,
     "start_time": "2021-05-04T12:09:16.710942",
     "status": "completed"
    },
    "tags": []
   },
   "source": [
    "# **Divvy's Trips Data Analysis**\n",
    "\n",
    "## **Objective**\n",
    "\n",
    "There are two kinds of customers using Divvy's Bike-sharing service, those are casual riders (Customers who purchase single-ride or full-day passes) and members (customers who purchase annual memberships). The objective of this analysis is to design marketing strategies aimed at converting casual riders to annual members.\n",
    "\n",
    "## **Questions to be Answered**\n",
    "\n",
    "There are questions or business tasks need to be answered for this analysis:\n",
    "1. What is the weekly average of ride length for casual riders and members?\n",
    "2. Is there a correlation between the seasons in chicago and number of rides?\n",
    "3. Is there a correlation between the seasons in chicago and ride length?\n",
    "4. What is the average number of rides on each name of the day of the week??\n",
    "5. What is the average ride length on each name of the day of the week?\n",
    "6. Which stations do casual riders often visit?\n",
    "\n",
    "\n",
    "\n",
    "### Import packages"
   ]
  },
  {
   "cell_type": "code",
   "execution_count": 1,
   "id": "earlier-marshall",
   "metadata": {
    "execution": {
     "iopub.execute_input": "2021-05-04T12:09:16.838676Z",
     "iopub.status.busy": "2021-05-04T12:09:16.836905Z",
     "iopub.status.idle": "2021-05-04T12:09:17.681162Z",
     "shell.execute_reply": "2021-05-04T12:09:17.678446Z"
    },
    "papermill": {
     "duration": 0.888919,
     "end_time": "2021-05-04T12:09:17.681356",
     "exception": false,
     "start_time": "2021-05-04T12:09:16.792437",
     "status": "completed"
    },
    "tags": []
   },
   "outputs": [],
   "source": [
    "import pandas as pd\n",
    "import matplotlib.pyplot as plt\n",
    "import matplotlib.ticker as ticker\n",
    "import seaborn as sns"
   ]
  },
  {
   "cell_type": "markdown",
   "id": "severe-california",
   "metadata": {
    "papermill": {
     "duration": 0.040486,
     "end_time": "2021-05-04T12:09:17.762444",
     "exception": false,
     "start_time": "2021-05-04T12:09:17.721958",
     "status": "completed"
    },
    "tags": []
   },
   "source": [
    "### Read files needed"
   ]
  },
  {
   "cell_type": "code",
   "execution_count": 3,
   "id": "waiting-thousand",
   "metadata": {
    "execution": {
     "iopub.execute_input": "2021-05-04T12:09:17.851739Z",
     "iopub.status.busy": "2021-05-04T12:09:17.850983Z",
     "iopub.status.idle": "2021-05-04T12:09:40.819619Z",
     "shell.execute_reply": "2021-05-04T12:09:40.818991Z"
    },
    "papermill": {
     "duration": 23.016876,
     "end_time": "2021-05-04T12:09:40.819777",
     "exception": false,
     "start_time": "2021-05-04T12:09:17.802901",
     "status": "completed"
    },
    "tags": []
   },
   "outputs": [],
   "source": [
    "# Read csv files\n",
    "\n",
    "bike_data1 = pd.read_csv('/Users/yashpradhan/Desktop/UNC Charlotte/Sem Fall 2023/Big Data Analytics/Project/divvyData/202210-divvy-tripdata.csv')\n",
    "bike_data2 = pd.read_csv('/Users/yashpradhan/Desktop/UNC Charlotte/Sem Fall 2023/Big Data Analytics/Project/divvyData/202211-divvy-tripdata.csv')\n",
    "bike_data3 = pd.read_csv('/Users/yashpradhan/Desktop/UNC Charlotte/Sem Fall 2023/Big Data Analytics/Project/divvyData/202212-divvy-tripdata.csv')\n",
    "bike_data4 = pd.read_csv('/Users/yashpradhan/Desktop/UNC Charlotte/Sem Fall 2023/Big Data Analytics/Project/divvyData/202301-divvy-tripdata.csv')\n",
    "bike_data5 = pd.read_csv('/Users/yashpradhan/Desktop/UNC Charlotte/Sem Fall 2023/Big Data Analytics/Project/divvyData/202302-divvy-tripdata.csv')\n",
    "bike_data6 = pd.read_csv('/Users/yashpradhan/Desktop/UNC Charlotte/Sem Fall 2023/Big Data Analytics/Project/divvyData/202303-divvy-tripdata.csv')\n",
    "bike_data7 = pd.read_csv('/Users/yashpradhan/Desktop/UNC Charlotte/Sem Fall 2023/Big Data Analytics/Project/divvyData/202304-divvy-tripdata.csv')\n",
    "bike_data8 = pd.read_csv('/Users/yashpradhan/Desktop/UNC Charlotte/Sem Fall 2023/Big Data Analytics/Project/divvyData/202305-divvy-tripdata.csv')\n",
    "bike_data9 = pd.read_csv('/Users/yashpradhan/Desktop/UNC Charlotte/Sem Fall 2023/Big Data Analytics/Project/divvyData/202306-divvy-tripdata.csv')\n",
    "bike_data10 = pd.read_csv('/Users/yashpradhan/Desktop/UNC Charlotte/Sem Fall 2023/Big Data Analytics/Project/divvyData/202307-divvy-tripdata.csv')\n",
    "bike_data11 = pd.read_csv('/Users/yashpradhan/Desktop/UNC Charlotte/Sem Fall 2023/Big Data Analytics/Project/divvyData/202308-divvy-tripdata.csv')\n",
    "bike_data12 = pd.read_csv('/Users/yashpradhan/Desktop/UNC Charlotte/Sem Fall 2023/Big Data Analytics/Project/divvyData/202309-divvy-tripdata.csv')\n",
    "\n",
    "# Merge the datasets into one dataset using concat. (Number of columns and column names are the same for each dataset)\n",
    "data = [bike_data1, bike_data2, bike_data3, bike_data4, \n",
    "        bike_data5, bike_data6, bike_data7, bike_data8, \n",
    "        bike_data9, bike_data10, bike_data11, bike_data12]\n",
    "\n",
    "bike_data = pd.concat(data)"
   ]
  },
  {
   "cell_type": "markdown",
   "id": "united-jimmy",
   "metadata": {
    "papermill": {
     "duration": 0.041337,
     "end_time": "2021-05-04T12:09:40.902336",
     "exception": false,
     "start_time": "2021-05-04T12:09:40.860999",
     "status": "completed"
    },
    "tags": []
   },
   "source": [
    "### Informations about the dataset"
   ]
  },
  {
   "cell_type": "code",
   "execution_count": 4,
   "id": "frozen-saskatchewan",
   "metadata": {
    "execution": {
     "iopub.execute_input": "2021-05-04T12:09:40.996291Z",
     "iopub.status.busy": "2021-05-04T12:09:40.995599Z",
     "iopub.status.idle": "2021-05-04T12:09:41.019844Z",
     "shell.execute_reply": "2021-05-04T12:09:41.019187Z"
    },
    "papermill": {
     "duration": 0.076796,
     "end_time": "2021-05-04T12:09:41.020005",
     "exception": false,
     "start_time": "2021-05-04T12:09:40.943209",
     "status": "completed"
    },
    "tags": []
   },
   "outputs": [
    {
     "data": {
      "text/html": [
       "<div>\n",
       "<style scoped>\n",
       "    .dataframe tbody tr th:only-of-type {\n",
       "        vertical-align: middle;\n",
       "    }\n",
       "\n",
       "    .dataframe tbody tr th {\n",
       "        vertical-align: top;\n",
       "    }\n",
       "\n",
       "    .dataframe thead th {\n",
       "        text-align: right;\n",
       "    }\n",
       "</style>\n",
       "<table border=\"1\" class=\"dataframe\">\n",
       "  <thead>\n",
       "    <tr style=\"text-align: right;\">\n",
       "      <th></th>\n",
       "      <th>ride_id</th>\n",
       "      <th>rideable_type</th>\n",
       "      <th>started_at</th>\n",
       "      <th>ended_at</th>\n",
       "      <th>start_station_name</th>\n",
       "      <th>start_station_id</th>\n",
       "      <th>end_station_name</th>\n",
       "      <th>end_station_id</th>\n",
       "      <th>start_lat</th>\n",
       "      <th>start_lng</th>\n",
       "      <th>end_lat</th>\n",
       "      <th>end_lng</th>\n",
       "      <th>member_casual</th>\n",
       "    </tr>\n",
       "  </thead>\n",
       "  <tbody>\n",
       "    <tr>\n",
       "      <th>0</th>\n",
       "      <td>A50255C1E17942AB</td>\n",
       "      <td>classic_bike</td>\n",
       "      <td>2022-10-14 17:13:30</td>\n",
       "      <td>2022-10-14 17:19:39</td>\n",
       "      <td>Noble St &amp; Milwaukee Ave</td>\n",
       "      <td>13290</td>\n",
       "      <td>Larrabee St &amp; Division St</td>\n",
       "      <td>KA1504000079</td>\n",
       "      <td>41.900680</td>\n",
       "      <td>-87.662600</td>\n",
       "      <td>41.903486</td>\n",
       "      <td>-87.643353</td>\n",
       "      <td>member</td>\n",
       "    </tr>\n",
       "    <tr>\n",
       "      <th>1</th>\n",
       "      <td>DB692A70BD2DD4E3</td>\n",
       "      <td>electric_bike</td>\n",
       "      <td>2022-10-01 16:29:26</td>\n",
       "      <td>2022-10-01 16:49:06</td>\n",
       "      <td>Damen Ave &amp; Charleston St</td>\n",
       "      <td>13288</td>\n",
       "      <td>Damen Ave &amp; Cullerton St</td>\n",
       "      <td>13089</td>\n",
       "      <td>41.920037</td>\n",
       "      <td>-87.677937</td>\n",
       "      <td>41.854967</td>\n",
       "      <td>-87.675700</td>\n",
       "      <td>casual</td>\n",
       "    </tr>\n",
       "    <tr>\n",
       "      <th>2</th>\n",
       "      <td>3C02727AAF60F873</td>\n",
       "      <td>electric_bike</td>\n",
       "      <td>2022-10-19 18:55:40</td>\n",
       "      <td>2022-10-19 19:03:30</td>\n",
       "      <td>Hoyne Ave &amp; Balmoral Ave</td>\n",
       "      <td>655</td>\n",
       "      <td>Western Ave &amp; Leland Ave</td>\n",
       "      <td>TA1307000140</td>\n",
       "      <td>41.979879</td>\n",
       "      <td>-87.681902</td>\n",
       "      <td>41.966400</td>\n",
       "      <td>-87.688704</td>\n",
       "      <td>member</td>\n",
       "    </tr>\n",
       "    <tr>\n",
       "      <th>3</th>\n",
       "      <td>47E653FDC2D99236</td>\n",
       "      <td>electric_bike</td>\n",
       "      <td>2022-10-31 07:52:36</td>\n",
       "      <td>2022-10-31 07:58:49</td>\n",
       "      <td>Rush St &amp; Cedar St</td>\n",
       "      <td>KA1504000133</td>\n",
       "      <td>Orleans St &amp; Chestnut St (NEXT Apts)</td>\n",
       "      <td>620</td>\n",
       "      <td>41.902274</td>\n",
       "      <td>-87.627692</td>\n",
       "      <td>41.898203</td>\n",
       "      <td>-87.637536</td>\n",
       "      <td>member</td>\n",
       "    </tr>\n",
       "    <tr>\n",
       "      <th>4</th>\n",
       "      <td>8B5407BE535159BF</td>\n",
       "      <td>classic_bike</td>\n",
       "      <td>2022-10-13 18:41:03</td>\n",
       "      <td>2022-10-13 19:26:18</td>\n",
       "      <td>900 W Harrison St</td>\n",
       "      <td>13028</td>\n",
       "      <td>Adler Planetarium</td>\n",
       "      <td>13431</td>\n",
       "      <td>41.874754</td>\n",
       "      <td>-87.649807</td>\n",
       "      <td>41.866095</td>\n",
       "      <td>-87.607267</td>\n",
       "      <td>casual</td>\n",
       "    </tr>\n",
       "  </tbody>\n",
       "</table>\n",
       "</div>"
      ],
      "text/plain": [
       "            ride_id  rideable_type           started_at             ended_at  \\\n",
       "0  A50255C1E17942AB   classic_bike  2022-10-14 17:13:30  2022-10-14 17:19:39   \n",
       "1  DB692A70BD2DD4E3  electric_bike  2022-10-01 16:29:26  2022-10-01 16:49:06   \n",
       "2  3C02727AAF60F873  electric_bike  2022-10-19 18:55:40  2022-10-19 19:03:30   \n",
       "3  47E653FDC2D99236  electric_bike  2022-10-31 07:52:36  2022-10-31 07:58:49   \n",
       "4  8B5407BE535159BF   classic_bike  2022-10-13 18:41:03  2022-10-13 19:26:18   \n",
       "\n",
       "          start_station_name start_station_id  \\\n",
       "0   Noble St & Milwaukee Ave            13290   \n",
       "1  Damen Ave & Charleston St            13288   \n",
       "2   Hoyne Ave & Balmoral Ave              655   \n",
       "3         Rush St & Cedar St     KA1504000133   \n",
       "4          900 W Harrison St            13028   \n",
       "\n",
       "                       end_station_name end_station_id  start_lat  start_lng  \\\n",
       "0             Larrabee St & Division St   KA1504000079  41.900680 -87.662600   \n",
       "1              Damen Ave & Cullerton St          13089  41.920037 -87.677937   \n",
       "2              Western Ave & Leland Ave   TA1307000140  41.979879 -87.681902   \n",
       "3  Orleans St & Chestnut St (NEXT Apts)            620  41.902274 -87.627692   \n",
       "4                     Adler Planetarium          13431  41.874754 -87.649807   \n",
       "\n",
       "     end_lat    end_lng member_casual  \n",
       "0  41.903486 -87.643353        member  \n",
       "1  41.854967 -87.675700        casual  \n",
       "2  41.966400 -87.688704        member  \n",
       "3  41.898203 -87.637536        member  \n",
       "4  41.866095 -87.607267        casual  "
      ]
     },
     "execution_count": 4,
     "metadata": {},
     "output_type": "execute_result"
    }
   ],
   "source": [
    "bike_data.head()"
   ]
  },
  {
   "cell_type": "code",
   "execution_count": 5,
   "id": "adverse-collar",
   "metadata": {
    "execution": {
     "iopub.execute_input": "2021-05-04T12:09:41.111526Z",
     "iopub.status.busy": "2021-05-04T12:09:41.110758Z",
     "iopub.status.idle": "2021-05-04T12:09:41.126490Z",
     "shell.execute_reply": "2021-05-04T12:09:41.127426Z"
    },
    "papermill": {
     "duration": 0.065598,
     "end_time": "2021-05-04T12:09:41.127690",
     "exception": false,
     "start_time": "2021-05-04T12:09:41.062092",
     "status": "completed"
    },
    "tags": []
   },
   "outputs": [
    {
     "name": "stdout",
     "output_type": "stream",
     "text": [
      "<class 'pandas.core.frame.DataFrame'>\n",
      "Index: 5674399 entries, 0 to 666370\n",
      "Data columns (total 13 columns):\n",
      " #   Column              Dtype  \n",
      "---  ------              -----  \n",
      " 0   ride_id             object \n",
      " 1   rideable_type       object \n",
      " 2   started_at          object \n",
      " 3   ended_at            object \n",
      " 4   start_station_name  object \n",
      " 5   start_station_id    object \n",
      " 6   end_station_name    object \n",
      " 7   end_station_id      object \n",
      " 8   start_lat           float64\n",
      " 9   start_lng           float64\n",
      " 10  end_lat             float64\n",
      " 11  end_lng             float64\n",
      " 12  member_casual       object \n",
      "dtypes: float64(4), object(9)\n",
      "memory usage: 606.1+ MB\n"
     ]
    }
   ],
   "source": [
    "# Information about data types for each column, total number of rows, total number of columns\n",
    "bike_data.info()"
   ]
  },
  {
   "cell_type": "code",
   "execution_count": 9,
   "id": "organized-documentary",
   "metadata": {
    "execution": {
     "iopub.execute_input": "2021-05-04T12:09:41.216557Z",
     "iopub.status.busy": "2021-05-04T12:09:41.215915Z",
     "iopub.status.idle": "2021-05-04T12:09:53.215721Z",
     "shell.execute_reply": "2021-05-04T12:09:53.216242Z"
    },
    "papermill": {
     "duration": 12.045266,
     "end_time": "2021-05-04T12:09:53.216416",
     "exception": false,
     "start_time": "2021-05-04T12:09:41.171150",
     "status": "completed"
    },
    "tags": []
   },
   "outputs": [
    {
     "data": {
      "text/plain": [
       "(5674399, 13)"
      ]
     },
     "execution_count": 9,
     "metadata": {},
     "output_type": "execute_result"
    }
   ],
   "source": [
    "# Number of unique values in each columns\n",
    "bike_data.nunique()\n",
    "bike_data.shape"
   ]
  },
  {
   "cell_type": "code",
   "execution_count": 7,
   "id": "unexpected-marks",
   "metadata": {
    "execution": {
     "iopub.execute_input": "2021-05-04T12:09:54.974954Z",
     "iopub.status.busy": "2021-05-04T12:09:54.974266Z",
     "iopub.status.idle": "2021-05-04T12:09:56.062566Z",
     "shell.execute_reply": "2021-05-04T12:09:56.062038Z"
    },
    "papermill": {
     "duration": 2.803423,
     "end_time": "2021-05-04T12:09:56.062718",
     "exception": false,
     "start_time": "2021-05-04T12:09:53.259295",
     "status": "completed"
    },
    "tags": []
   },
   "outputs": [
    {
     "data": {
      "text/plain": [
       "ride_id                    0\n",
       "rideable_type              0\n",
       "started_at                 0\n",
       "ended_at                   0\n",
       "start_station_name    873186\n",
       "start_station_id      873318\n",
       "end_station_name      926160\n",
       "end_station_id        926301\n",
       "start_lat                  0\n",
       "start_lng                  0\n",
       "end_lat                 6642\n",
       "end_lng                 6642\n",
       "member_casual              0\n",
       "dtype: int64"
      ]
     },
     "execution_count": 7,
     "metadata": {},
     "output_type": "execute_result"
    }
   ],
   "source": [
    "# Checking missing values / missing data\n",
    "bike_data.isnull().sum()"
   ]
  },
  {
   "cell_type": "markdown",
   "id": "expected-belize",
   "metadata": {
    "papermill": {
     "duration": 0.042044,
     "end_time": "2021-05-04T12:09:56.147108",
     "exception": false,
     "start_time": "2021-05-04T12:09:56.105064",
     "status": "completed"
    },
    "tags": []
   },
   "source": [
    "### **Clean the data and Prepare for Exploration!**\n",
    "\n",
    "As we can see from the informations above, the dataset needs to be cleaned before we go to the next step.\n",
    "1. Remove unwanted columns\n",
    "> * Remove `start_lat`, `start_lng`, `end lat`, `end_lng` columns because these columns are not needed for this analysis\n",
    "> * Remove `start_station_id`, `end_station_id`, `ride_id` columns, because these columns are not relevant for this analysis\n",
    "\n",
    "2. Fixing inconsistent station names\n",
    "> * There are some stations that has `(*)` or `(Temp)` at the end of the station name, for examples are Smith Park Station and Wood St & Taylor St. There are `Smith Park` and `Smith Park (*)`, `Wood St & Taylor St` and `Wood St & Taylor St (Temp)` in the data. The `(*)` and `(Temp)` should be erased to make the station name consistent.\n",
    "> * There is a station name written `HUBBARD ST BIKE CHECKING (LBS-WH-TEST)`. It seems like divvy's staff did some system checking because the time between the started_at and ended_at was only a few seconds. Therefore, those rows containing `HUBBARD ST BIKE CHECKING (LBS-WH-TEST)` should be deleted\n",
    "> * Station located in `Burling St (Halsted) & Diversey Pkwy (Temp)` is the same as `Burling St & Diversey Pkwy` station, so `Burling St (Halsted) & Diversey Pkwy (Temp)` should be changed to `Burling St & Diversey Pkwy`\n",
    "\n",
    "3. Fixing inconsistent `rideable_type` data\n",
    "> * Starting December 2020, `docked_bike` is written as `classic_bike`, so to make the data consistent, all `docked_bike` will be changed to `classic_bike`.\n",
    "\n",
    "4. Fixing data types\n",
    "> * `started_at` column and `ended_at` column will be changed to datetime\n",
    "\n",
    "5. Changing column name\n",
    "> * change column name from`rideable_type` to `bike_type`\n",
    "> * change column name from`member_casual` to `customer_type`\n",
    "\n",
    "6. Filling missing station names with `Unknown`\n",
    "\n",
    "7. Create new column: `ride_length` which calculates the customer's ride length by substracting `ended_at` by `started_at`, and then convert it to minutes.\n",
    "\n",
    "**The cleaned data will be saved in different dataframe named bike_data_v2**"
   ]
  },
  {
   "cell_type": "code",
   "execution_count": 10,
   "id": "suspected-joshua",
   "metadata": {
    "execution": {
     "iopub.execute_input": "2021-05-04T12:09:56.684467Z",
     "iopub.status.busy": "2021-05-04T12:09:56.239678Z",
     "iopub.status.idle": "2021-05-04T12:09:57.918887Z",
     "shell.execute_reply": "2021-05-04T12:09:57.919592Z"
    },
    "papermill": {
     "duration": 1.728841,
     "end_time": "2021-05-04T12:09:57.919776",
     "exception": false,
     "start_time": "2021-05-04T12:09:56.190935",
     "status": "completed"
    },
    "tags": []
   },
   "outputs": [
    {
     "data": {
      "text/html": [
       "<div>\n",
       "<style scoped>\n",
       "    .dataframe tbody tr th:only-of-type {\n",
       "        vertical-align: middle;\n",
       "    }\n",
       "\n",
       "    .dataframe tbody tr th {\n",
       "        vertical-align: top;\n",
       "    }\n",
       "\n",
       "    .dataframe thead th {\n",
       "        text-align: right;\n",
       "    }\n",
       "</style>\n",
       "<table border=\"1\" class=\"dataframe\">\n",
       "  <thead>\n",
       "    <tr style=\"text-align: right;\">\n",
       "      <th></th>\n",
       "      <th>rideable_type</th>\n",
       "      <th>started_at</th>\n",
       "      <th>ended_at</th>\n",
       "      <th>start_station_name</th>\n",
       "      <th>end_station_name</th>\n",
       "      <th>member_casual</th>\n",
       "    </tr>\n",
       "  </thead>\n",
       "  <tbody>\n",
       "    <tr>\n",
       "      <th>0</th>\n",
       "      <td>classic_bike</td>\n",
       "      <td>2022-10-14 17:13:30</td>\n",
       "      <td>2022-10-14 17:19:39</td>\n",
       "      <td>Noble St &amp; Milwaukee Ave</td>\n",
       "      <td>Larrabee St &amp; Division St</td>\n",
       "      <td>member</td>\n",
       "    </tr>\n",
       "    <tr>\n",
       "      <th>1</th>\n",
       "      <td>electric_bike</td>\n",
       "      <td>2022-10-01 16:29:26</td>\n",
       "      <td>2022-10-01 16:49:06</td>\n",
       "      <td>Damen Ave &amp; Charleston St</td>\n",
       "      <td>Damen Ave &amp; Cullerton St</td>\n",
       "      <td>casual</td>\n",
       "    </tr>\n",
       "    <tr>\n",
       "      <th>2</th>\n",
       "      <td>electric_bike</td>\n",
       "      <td>2022-10-19 18:55:40</td>\n",
       "      <td>2022-10-19 19:03:30</td>\n",
       "      <td>Hoyne Ave &amp; Balmoral Ave</td>\n",
       "      <td>Western Ave &amp; Leland Ave</td>\n",
       "      <td>member</td>\n",
       "    </tr>\n",
       "    <tr>\n",
       "      <th>3</th>\n",
       "      <td>electric_bike</td>\n",
       "      <td>2022-10-31 07:52:36</td>\n",
       "      <td>2022-10-31 07:58:49</td>\n",
       "      <td>Rush St &amp; Cedar St</td>\n",
       "      <td>Orleans St &amp; Chestnut St (NEXT Apts)</td>\n",
       "      <td>member</td>\n",
       "    </tr>\n",
       "    <tr>\n",
       "      <th>4</th>\n",
       "      <td>classic_bike</td>\n",
       "      <td>2022-10-13 18:41:03</td>\n",
       "      <td>2022-10-13 19:26:18</td>\n",
       "      <td>900 W Harrison St</td>\n",
       "      <td>Adler Planetarium</td>\n",
       "      <td>casual</td>\n",
       "    </tr>\n",
       "  </tbody>\n",
       "</table>\n",
       "</div>"
      ],
      "text/plain": [
       "   rideable_type           started_at             ended_at  \\\n",
       "0   classic_bike  2022-10-14 17:13:30  2022-10-14 17:19:39   \n",
       "1  electric_bike  2022-10-01 16:29:26  2022-10-01 16:49:06   \n",
       "2  electric_bike  2022-10-19 18:55:40  2022-10-19 19:03:30   \n",
       "3  electric_bike  2022-10-31 07:52:36  2022-10-31 07:58:49   \n",
       "4   classic_bike  2022-10-13 18:41:03  2022-10-13 19:26:18   \n",
       "\n",
       "          start_station_name                      end_station_name  \\\n",
       "0   Noble St & Milwaukee Ave             Larrabee St & Division St   \n",
       "1  Damen Ave & Charleston St              Damen Ave & Cullerton St   \n",
       "2   Hoyne Ave & Balmoral Ave              Western Ave & Leland Ave   \n",
       "3         Rush St & Cedar St  Orleans St & Chestnut St (NEXT Apts)   \n",
       "4          900 W Harrison St                     Adler Planetarium   \n",
       "\n",
       "  member_casual  \n",
       "0        member  \n",
       "1        casual  \n",
       "2        member  \n",
       "3        member  \n",
       "4        casual  "
      ]
     },
     "execution_count": 10,
     "metadata": {},
     "output_type": "execute_result"
    }
   ],
   "source": [
    "# Create new dataframe and name it bike_data_v2\n",
    "bike_data_v2 = bike_data[['rideable_type','started_at','ended_at','start_station_name','end_station_name','member_casual']].copy()\n",
    "bike_data_v2.head()"
   ]
  },
  {
   "cell_type": "code",
   "execution_count": 11,
   "id": "comic-entry",
   "metadata": {
    "execution": {
     "iopub.execute_input": "2021-05-04T12:09:58.011203Z",
     "iopub.status.busy": "2021-05-04T12:09:58.010508Z",
     "iopub.status.idle": "2021-05-04T12:10:00.837108Z",
     "shell.execute_reply": "2021-05-04T12:10:00.837629Z"
    },
    "papermill": {
     "duration": 2.87432,
     "end_time": "2021-05-04T12:10:00.837813",
     "exception": false,
     "start_time": "2021-05-04T12:09:57.963493",
     "status": "completed"
    },
    "tags": []
   },
   "outputs": [
    {
     "name": "stdout",
     "output_type": "stream",
     "text": [
      "<class 'pandas.core.frame.DataFrame'>\n",
      "Index: 5674399 entries, 0 to 666370\n",
      "Data columns (total 6 columns):\n",
      " #   Column              Dtype         \n",
      "---  ------              -----         \n",
      " 0   rideable_type       object        \n",
      " 1   started_at          datetime64[ns]\n",
      " 2   ended_at            datetime64[ns]\n",
      " 3   start_station_name  object        \n",
      " 4   end_station_name    object        \n",
      " 5   member_casual       object        \n",
      "dtypes: datetime64[ns](2), object(4)\n",
      "memory usage: 303.0+ MB\n"
     ]
    }
   ],
   "source": [
    "# Change the data type of started_at and ended_at column as datetime\n",
    "bike_data_v2['started_at'] = pd.to_datetime(bike_data_v2['started_at'])\n",
    "bike_data_v2['ended_at'] = pd.to_datetime(bike_data_v2['ended_at'])\n",
    "\n",
    "bike_data_v2.info()"
   ]
  },
  {
   "cell_type": "code",
   "execution_count": 12,
   "id": "norwegian-stress",
   "metadata": {
    "execution": {
     "iopub.execute_input": "2021-05-04T12:10:01.091426Z",
     "iopub.status.busy": "2021-05-04T12:10:01.090716Z",
     "iopub.status.idle": "2021-05-04T12:10:01.147997Z",
     "shell.execute_reply": "2021-05-04T12:10:01.148507Z"
    },
    "papermill": {
     "duration": 0.266691,
     "end_time": "2021-05-04T12:10:01.148679",
     "exception": false,
     "start_time": "2021-05-04T12:10:00.881988",
     "status": "completed"
    },
    "tags": []
   },
   "outputs": [
    {
     "data": {
      "text/html": [
       "<div>\n",
       "<style scoped>\n",
       "    .dataframe tbody tr th:only-of-type {\n",
       "        vertical-align: middle;\n",
       "    }\n",
       "\n",
       "    .dataframe tbody tr th {\n",
       "        vertical-align: top;\n",
       "    }\n",
       "\n",
       "    .dataframe thead th {\n",
       "        text-align: right;\n",
       "    }\n",
       "</style>\n",
       "<table border=\"1\" class=\"dataframe\">\n",
       "  <thead>\n",
       "    <tr style=\"text-align: right;\">\n",
       "      <th></th>\n",
       "      <th>bike_type</th>\n",
       "      <th>started_at</th>\n",
       "      <th>ended_at</th>\n",
       "      <th>start_station_name</th>\n",
       "      <th>end_station_name</th>\n",
       "      <th>customer_type</th>\n",
       "    </tr>\n",
       "  </thead>\n",
       "  <tbody>\n",
       "    <tr>\n",
       "      <th>0</th>\n",
       "      <td>classic_bike</td>\n",
       "      <td>2022-10-14 17:13:30</td>\n",
       "      <td>2022-10-14 17:19:39</td>\n",
       "      <td>Noble St &amp; Milwaukee Ave</td>\n",
       "      <td>Larrabee St &amp; Division St</td>\n",
       "      <td>member</td>\n",
       "    </tr>\n",
       "    <tr>\n",
       "      <th>1</th>\n",
       "      <td>electric_bike</td>\n",
       "      <td>2022-10-01 16:29:26</td>\n",
       "      <td>2022-10-01 16:49:06</td>\n",
       "      <td>Damen Ave &amp; Charleston St</td>\n",
       "      <td>Damen Ave &amp; Cullerton St</td>\n",
       "      <td>casual</td>\n",
       "    </tr>\n",
       "    <tr>\n",
       "      <th>2</th>\n",
       "      <td>electric_bike</td>\n",
       "      <td>2022-10-19 18:55:40</td>\n",
       "      <td>2022-10-19 19:03:30</td>\n",
       "      <td>Hoyne Ave &amp; Balmoral Ave</td>\n",
       "      <td>Western Ave &amp; Leland Ave</td>\n",
       "      <td>member</td>\n",
       "    </tr>\n",
       "    <tr>\n",
       "      <th>3</th>\n",
       "      <td>electric_bike</td>\n",
       "      <td>2022-10-31 07:52:36</td>\n",
       "      <td>2022-10-31 07:58:49</td>\n",
       "      <td>Rush St &amp; Cedar St</td>\n",
       "      <td>Orleans St &amp; Chestnut St (NEXT Apts)</td>\n",
       "      <td>member</td>\n",
       "    </tr>\n",
       "    <tr>\n",
       "      <th>4</th>\n",
       "      <td>classic_bike</td>\n",
       "      <td>2022-10-13 18:41:03</td>\n",
       "      <td>2022-10-13 19:26:18</td>\n",
       "      <td>900 W Harrison St</td>\n",
       "      <td>Adler Planetarium</td>\n",
       "      <td>casual</td>\n",
       "    </tr>\n",
       "  </tbody>\n",
       "</table>\n",
       "</div>"
      ],
      "text/plain": [
       "       bike_type          started_at            ended_at  \\\n",
       "0   classic_bike 2022-10-14 17:13:30 2022-10-14 17:19:39   \n",
       "1  electric_bike 2022-10-01 16:29:26 2022-10-01 16:49:06   \n",
       "2  electric_bike 2022-10-19 18:55:40 2022-10-19 19:03:30   \n",
       "3  electric_bike 2022-10-31 07:52:36 2022-10-31 07:58:49   \n",
       "4   classic_bike 2022-10-13 18:41:03 2022-10-13 19:26:18   \n",
       "\n",
       "          start_station_name                      end_station_name  \\\n",
       "0   Noble St & Milwaukee Ave             Larrabee St & Division St   \n",
       "1  Damen Ave & Charleston St              Damen Ave & Cullerton St   \n",
       "2   Hoyne Ave & Balmoral Ave              Western Ave & Leland Ave   \n",
       "3         Rush St & Cedar St  Orleans St & Chestnut St (NEXT Apts)   \n",
       "4          900 W Harrison St                     Adler Planetarium   \n",
       "\n",
       "  customer_type  \n",
       "0        member  \n",
       "1        casual  \n",
       "2        member  \n",
       "3        member  \n",
       "4        casual  "
      ]
     },
     "execution_count": 12,
     "metadata": {},
     "output_type": "execute_result"
    }
   ],
   "source": [
    "# Rename columns\n",
    "\n",
    "bike_data_v2 = bike_data_v2.rename(columns={'rideable_type':'bike_type', 'member_casual':'customer_type'})\n",
    "bike_data_v2.head()"
   ]
  },
  {
   "cell_type": "code",
   "execution_count": 20,
   "id": "molecular-tender",
   "metadata": {
    "execution": {
     "iopub.execute_input": "2021-05-04T12:10:01.574901Z",
     "iopub.status.busy": "2021-05-04T12:10:01.574177Z",
     "iopub.status.idle": "2021-05-04T12:10:02.169352Z",
     "shell.execute_reply": "2021-05-04T12:10:02.168605Z"
    },
    "papermill": {
     "duration": 0.976519,
     "end_time": "2021-05-04T12:10:02.169503",
     "exception": false,
     "start_time": "2021-05-04T12:10:01.192984",
     "status": "completed"
    },
    "tags": []
   },
   "outputs": [
    {
     "name": "stdout",
     "output_type": "stream",
     "text": [
      "bike type:  ['classic_bike' 'electric_bike']\n"
     ]
    }
   ],
   "source": [
    "# Change 'docked_bike' to 'classic_bike'\n",
    "bike_data_v2['bike_type'] = bike_data_v2['bike_type'].replace(['docked_bike'],'classic_bike')\n",
    "\n",
    "print('bike type: ', bike_data_v2['bike_type'].unique())"
   ]
  },
  {
   "cell_type": "code",
   "execution_count": 13,
   "id": "subjective-advance",
   "metadata": {
    "execution": {
     "iopub.execute_input": "2021-05-04T12:10:02.262896Z",
     "iopub.status.busy": "2021-05-04T12:10:02.262158Z",
     "iopub.status.idle": "2021-05-04T12:10:07.708817Z",
     "shell.execute_reply": "2021-05-04T12:10:07.708109Z"
    },
    "papermill": {
     "duration": 5.494623,
     "end_time": "2021-05-04T12:10:07.708979",
     "exception": false,
     "start_time": "2021-05-04T12:10:02.214356",
     "status": "completed"
    },
    "tags": []
   },
   "outputs": [],
   "source": [
    "# Change 'Burling St (Halsted) & Diversey Pkwy (Temp)' to 'Burling St & Diversey Pkwy'\n",
    "bike_data_v2['start_station_name'] = bike_data_v2['start_station_name'].replace(['Burling St (Halsted) & Diversey Pkwy (Temp)'],'Burling St & Diversey Pkwy')\n",
    "bike_data_v2['end_station_name'] = bike_data_v2['end_station_name'].replace(['Burling St (Halsted) & Diversey Pkwy (Temp)'],'Burling St & Diversey Pkwy')\n",
    "\n",
    "# Delete rows with station name HUBBARD ST BIKE CHECKING (LBS-WH-TEST)\n",
    "bike_data_v2.drop(bike_data_v2[bike_data_v2['start_station_name'] == 'HUBBARD ST BIKE CHECKING (LBS-WH-TEST)'].index, inplace=True)\n",
    "bike_data_v2.drop(bike_data_v2[bike_data_v2['end_station_name'] == 'HUBBARD ST BIKE CHECKING (LBS-WH-TEST)'].index, inplace=True)"
   ]
  },
  {
   "cell_type": "code",
   "execution_count": 14,
   "id": "floppy-virginia",
   "metadata": {
    "execution": {
     "iopub.execute_input": "2021-05-04T12:10:08.265572Z",
     "iopub.status.busy": "2021-05-04T12:10:08.264909Z",
     "iopub.status.idle": "2021-05-04T12:10:08.735373Z",
     "shell.execute_reply": "2021-05-04T12:10:08.734788Z"
    },
    "papermill": {
     "duration": 0.981589,
     "end_time": "2021-05-04T12:10:08.735520",
     "exception": false,
     "start_time": "2021-05-04T12:10:07.753931",
     "status": "completed"
    },
    "tags": []
   },
   "outputs": [
    {
     "name": "stdout",
     "output_type": "stream",
     "text": [
      "bike_type             0\n",
      "started_at            0\n",
      "ended_at              0\n",
      "start_station_name    0\n",
      "end_station_name      0\n",
      "customer_type         0\n",
      "dtype: int64 \n",
      "\n",
      "bike_type             0\n",
      "started_at            0\n",
      "ended_at              0\n",
      "start_station_name    0\n",
      "end_station_name      0\n",
      "customer_type         0\n",
      "dtype: int64\n"
     ]
    }
   ],
   "source": [
    "# Check if there are still station name still in the wrong format\n",
    "print(bike_data_v2[(bike_data_v2['start_station_name'] == 'Burling St (Halsted) & Diversey Pkwy (Temp)')].count(),'\\n')\n",
    "\n",
    "print(bike_data_v2[(bike_data_v2['start_station_name'] == 'HUBBARD ST BIKE CHECKING (LBS-WH-TEST)')].count())"
   ]
  },
  {
   "cell_type": "code",
   "execution_count": 15,
   "id": "hazardous-approach",
   "metadata": {
    "execution": {
     "iopub.execute_input": "2021-05-04T12:10:09.157633Z",
     "iopub.status.busy": "2021-05-04T12:10:09.156051Z",
     "iopub.status.idle": "2021-05-04T12:10:12.410699Z",
     "shell.execute_reply": "2021-05-04T12:10:12.409671Z"
    },
    "papermill": {
     "duration": 3.629748,
     "end_time": "2021-05-04T12:10:12.410853",
     "exception": false,
     "start_time": "2021-05-04T12:10:08.781105",
     "status": "completed"
    },
    "tags": []
   },
   "outputs": [],
   "source": [
    "# Erase (*) and (Temp) at the end of station name\n",
    "bike_data_v2['start_station_name'] = bike_data_v2['start_station_name'].str.rstrip('(*) (Temp)')\n",
    "bike_data_v2['end_station_name'] = bike_data_v2['end_station_name'].str.rstrip('(*) (Temp)')"
   ]
  },
  {
   "cell_type": "code",
   "execution_count": 16,
   "id": "imported-breakfast",
   "metadata": {
    "execution": {
     "iopub.execute_input": "2021-05-04T12:10:12.981203Z",
     "iopub.status.busy": "2021-05-04T12:10:12.980517Z",
     "iopub.status.idle": "2021-05-04T12:10:13.458563Z",
     "shell.execute_reply": "2021-05-04T12:10:13.459363Z"
    },
    "papermill": {
     "duration": 1.002814,
     "end_time": "2021-05-04T12:10:13.459604",
     "exception": false,
     "start_time": "2021-05-04T12:10:12.456790",
     "status": "completed"
    },
    "tags": []
   },
   "outputs": [
    {
     "name": "stdout",
     "output_type": "stream",
     "text": [
      "bike_type             0\n",
      "started_at            0\n",
      "ended_at              0\n",
      "start_station_name    0\n",
      "end_station_name      0\n",
      "customer_type         0\n",
      "dtype: int64 \n",
      "\n",
      "bike_type             0\n",
      "started_at            0\n",
      "ended_at              0\n",
      "start_station_name    0\n",
      "end_station_name      0\n",
      "customer_type         0\n",
      "dtype: int64\n"
     ]
    }
   ],
   "source": [
    "# Check whether the station names still have the (*) and (Temp) or not\n",
    "print(bike_data_v2[(bike_data_v2['start_station_name'] == 'Smith Park (*)')].count(), '\\n')\n",
    "print(bike_data_v2[(bike_data_v2['end_station_name'] == 'Smith Park (*)')].count())"
   ]
  },
  {
   "cell_type": "code",
   "execution_count": 21,
   "id": "sharp-sitting",
   "metadata": {
    "execution": {
     "iopub.execute_input": "2021-05-04T12:10:13.916021Z",
     "iopub.status.busy": "2021-05-04T12:10:13.914314Z",
     "iopub.status.idle": "2021-05-04T12:10:17.296621Z",
     "shell.execute_reply": "2021-05-04T12:10:17.297161Z"
    },
    "papermill": {
     "duration": 3.789193,
     "end_time": "2021-05-04T12:10:17.297341",
     "exception": false,
     "start_time": "2021-05-04T12:10:13.508148",
     "status": "completed"
    },
    "tags": []
   },
   "outputs": [
    {
     "data": {
      "text/plain": [
       "array(['classic_bike', 'electric_bike'], dtype=object)"
      ]
     },
     "execution_count": 21,
     "metadata": {},
     "output_type": "execute_result"
    }
   ],
   "source": [
    "# Check the number of start_station_name and end_station_name unique values\n",
    "bike_data_v2['bike_type'].unique()\n"
   ]
  },
  {
   "cell_type": "code",
   "execution_count": 22,
   "id": "standard-joyce",
   "metadata": {
    "execution": {
     "iopub.execute_input": "2021-05-04T12:10:17.403159Z",
     "iopub.status.busy": "2021-05-04T12:10:17.402449Z",
     "iopub.status.idle": "2021-05-04T12:10:17.406841Z",
     "shell.execute_reply": "2021-05-04T12:10:17.405923Z"
    },
    "papermill": {
     "duration": 0.062986,
     "end_time": "2021-05-04T12:10:17.407063",
     "exception": false,
     "start_time": "2021-05-04T12:10:17.344077",
     "status": "completed"
    },
    "tags": []
   },
   "outputs": [
    {
     "name": "stdout",
     "output_type": "stream",
     "text": [
      "<class 'pandas.core.frame.DataFrame'>\n",
      "Index: 5674399 entries, 0 to 666370\n",
      "Data columns (total 6 columns):\n",
      " #   Column              Dtype         \n",
      "---  ------              -----         \n",
      " 0   bike_type           object        \n",
      " 1   started_at          datetime64[ns]\n",
      " 2   ended_at            datetime64[ns]\n",
      " 3   start_station_name  object        \n",
      " 4   end_station_name    object        \n",
      " 5   customer_type       object        \n",
      "dtypes: datetime64[ns](2), object(4)\n",
      "memory usage: 303.0+ MB\n"
     ]
    }
   ],
   "source": [
    "bike_data_v2.info()"
   ]
  },
  {
   "cell_type": "code",
   "execution_count": 23,
   "id": "weekly-stretch",
   "metadata": {
    "execution": {
     "iopub.execute_input": "2021-05-04T12:10:17.509280Z",
     "iopub.status.busy": "2021-05-04T12:10:17.508498Z",
     "iopub.status.idle": "2021-05-04T12:10:20.397454Z",
     "shell.execute_reply": "2021-05-04T12:10:20.396809Z"
    },
    "papermill": {
     "duration": 2.941349,
     "end_time": "2021-05-04T12:10:20.397601",
     "exception": false,
     "start_time": "2021-05-04T12:10:17.456252",
     "status": "completed"
    },
    "tags": []
   },
   "outputs": [
    {
     "data": {
      "text/plain": [
       "bike_type             0\n",
       "started_at            0\n",
       "ended_at              0\n",
       "start_station_name    0\n",
       "end_station_name      0\n",
       "customer_type         0\n",
       "dtype: int64"
      ]
     },
     "execution_count": 23,
     "metadata": {},
     "output_type": "execute_result"
    }
   ],
   "source": [
    "# Fill missing station names with \"Unknown\"\n",
    "bike_data_v2 = bike_data_v2.fillna('Unknown')\n",
    "\n",
    "# Check missing data\n",
    "bike_data_v2.isnull().sum()"
   ]
  },
  {
   "cell_type": "code",
   "execution_count": 24,
   "id": "expired-thought",
   "metadata": {
    "execution": {
     "iopub.execute_input": "2021-05-04T12:10:20.499740Z",
     "iopub.status.busy": "2021-05-04T12:10:20.499043Z",
     "iopub.status.idle": "2021-05-04T12:10:20.701383Z",
     "shell.execute_reply": "2021-05-04T12:10:20.700809Z"
    },
    "papermill": {
     "duration": 0.255851,
     "end_time": "2021-05-04T12:10:20.701528",
     "exception": false,
     "start_time": "2021-05-04T12:10:20.445677",
     "status": "completed"
    },
    "tags": []
   },
   "outputs": [
    {
     "name": "stdout",
     "output_type": "stream",
     "text": [
      "Minimum ride_length :  -1 days +23:57:12\n",
      "Maximum ride_length :  1 days 03:21:29\n"
     ]
    }
   ],
   "source": [
    "# Create ride_length column, change unit of measurement to minutes\n",
    "bike_data_v2['ride_length'] = (bike_data_v2['ended_at']-bike_data_v2['started_at']).astype('timedelta64[s]')/60\n",
    "\n",
    "print(\"Minimum ride_length : \", bike_data_v2['ride_length'].min())\n",
    "print(\"Maximum ride_length : \", bike_data_v2['ride_length'].max())"
   ]
  },
  {
   "cell_type": "markdown",
   "id": "coastal-beverage",
   "metadata": {
    "papermill": {
     "duration": 0.047804,
     "end_time": "2021-05-04T12:10:20.797810",
     "exception": false,
     "start_time": "2021-05-04T12:10:20.750006",
     "status": "completed"
    },
    "tags": []
   },
   "source": [
    "Based on the output above, there are another issues with the data:\n",
    "* There are data points where the `ended_at` is smaller the `started_at` making our `ride_length` value negative, which can be caused by faulty system or something and therefore, those data should be dropped.\n",
    "* There are outliers in the data which can skew our analysis."
   ]
  },
  {
   "cell_type": "code",
   "execution_count": 25,
   "id": "three-tradition",
   "metadata": {
    "execution": {
     "iopub.execute_input": "2021-05-04T12:10:20.903772Z",
     "iopub.status.busy": "2021-05-04T12:10:20.902741Z",
     "iopub.status.idle": "2021-05-04T12:10:21.641713Z",
     "shell.execute_reply": "2021-05-04T12:10:21.641176Z"
    },
    "papermill": {
     "duration": 0.795952,
     "end_time": "2021-05-04T12:10:21.641858",
     "exception": false,
     "start_time": "2021-05-04T12:10:20.845906",
     "status": "completed"
    },
    "tags": []
   },
   "outputs": [
    {
     "ename": "TypeError",
     "evalue": "Invalid comparison between dtype=timedelta64[s] and int",
     "output_type": "error",
     "traceback": [
      "\u001b[0;31m---------------------------------------------------------------------------\u001b[0m",
      "\u001b[0;31mInvalidComparison\u001b[0m                         Traceback (most recent call last)",
      "File \u001b[0;32m/Library/Frameworks/Python.framework/Versions/3.11/lib/python3.11/site-packages/pandas/core/arrays/datetimelike.py:941\u001b[0m, in \u001b[0;36mDatetimeLikeArrayMixin._cmp_method\u001b[0;34m(self, other, op)\u001b[0m\n\u001b[1;32m    940\u001b[0m \u001b[39mtry\u001b[39;00m:\n\u001b[0;32m--> 941\u001b[0m     other \u001b[39m=\u001b[39m \u001b[39mself\u001b[39;49m\u001b[39m.\u001b[39;49m_validate_comparison_value(other)\n\u001b[1;32m    942\u001b[0m \u001b[39mexcept\u001b[39;00m InvalidComparison:\n",
      "File \u001b[0;32m/Library/Frameworks/Python.framework/Versions/3.11/lib/python3.11/site-packages/pandas/core/arrays/datetimelike.py:537\u001b[0m, in \u001b[0;36mDatetimeLikeArrayMixin._validate_comparison_value\u001b[0;34m(self, other)\u001b[0m\n\u001b[1;32m    536\u001b[0m \u001b[39melif\u001b[39;00m \u001b[39mnot\u001b[39;00m is_list_like(other):\n\u001b[0;32m--> 537\u001b[0m     \u001b[39mraise\u001b[39;00m InvalidComparison(other)\n\u001b[1;32m    539\u001b[0m \u001b[39melif\u001b[39;00m \u001b[39mlen\u001b[39m(other) \u001b[39m!=\u001b[39m \u001b[39mlen\u001b[39m(\u001b[39mself\u001b[39m):\n",
      "\u001b[0;31mInvalidComparison\u001b[0m: 0",
      "\nDuring handling of the above exception, another exception occurred:\n",
      "\u001b[0;31mTypeError\u001b[0m                                 Traceback (most recent call last)",
      "Cell \u001b[0;32mIn[25], line 2\u001b[0m\n\u001b[1;32m      1\u001b[0m \u001b[39m# drop the data points with ride_length less than 0\u001b[39;00m\n\u001b[0;32m----> 2\u001b[0m bike_data_v2 \u001b[39m=\u001b[39m bike_data_v2[bike_data_v2[\u001b[39m'\u001b[39;49m\u001b[39mride_length\u001b[39;49m\u001b[39m'\u001b[39;49m] \u001b[39m>\u001b[39;49m \u001b[39m0\u001b[39;49m]\n\u001b[1;32m      3\u001b[0m bike_data_v2\u001b[39m.\u001b[39minfo()\n",
      "File \u001b[0;32m/Library/Frameworks/Python.framework/Versions/3.11/lib/python3.11/site-packages/pandas/core/ops/common.py:76\u001b[0m, in \u001b[0;36m_unpack_zerodim_and_defer.<locals>.new_method\u001b[0;34m(self, other)\u001b[0m\n\u001b[1;32m     72\u001b[0m             \u001b[39mreturn\u001b[39;00m \u001b[39mNotImplemented\u001b[39m\n\u001b[1;32m     74\u001b[0m other \u001b[39m=\u001b[39m item_from_zerodim(other)\n\u001b[0;32m---> 76\u001b[0m \u001b[39mreturn\u001b[39;00m method(\u001b[39mself\u001b[39;49m, other)\n",
      "File \u001b[0;32m/Library/Frameworks/Python.framework/Versions/3.11/lib/python3.11/site-packages/pandas/core/arraylike.py:56\u001b[0m, in \u001b[0;36mOpsMixin.__gt__\u001b[0;34m(self, other)\u001b[0m\n\u001b[1;32m     54\u001b[0m \u001b[39m@unpack_zerodim_and_defer\u001b[39m(\u001b[39m\"\u001b[39m\u001b[39m__gt__\u001b[39m\u001b[39m\"\u001b[39m)\n\u001b[1;32m     55\u001b[0m \u001b[39mdef\u001b[39;00m \u001b[39m__gt__\u001b[39m(\u001b[39mself\u001b[39m, other):\n\u001b[0;32m---> 56\u001b[0m     \u001b[39mreturn\u001b[39;00m \u001b[39mself\u001b[39;49m\u001b[39m.\u001b[39;49m_cmp_method(other, operator\u001b[39m.\u001b[39;49mgt)\n",
      "File \u001b[0;32m/Library/Frameworks/Python.framework/Versions/3.11/lib/python3.11/site-packages/pandas/core/series.py:5799\u001b[0m, in \u001b[0;36mSeries._cmp_method\u001b[0;34m(self, other, op)\u001b[0m\n\u001b[1;32m   5796\u001b[0m lvalues \u001b[39m=\u001b[39m \u001b[39mself\u001b[39m\u001b[39m.\u001b[39m_values\n\u001b[1;32m   5797\u001b[0m rvalues \u001b[39m=\u001b[39m extract_array(other, extract_numpy\u001b[39m=\u001b[39m\u001b[39mTrue\u001b[39;00m, extract_range\u001b[39m=\u001b[39m\u001b[39mTrue\u001b[39;00m)\n\u001b[0;32m-> 5799\u001b[0m res_values \u001b[39m=\u001b[39m ops\u001b[39m.\u001b[39;49mcomparison_op(lvalues, rvalues, op)\n\u001b[1;32m   5801\u001b[0m \u001b[39mreturn\u001b[39;00m \u001b[39mself\u001b[39m\u001b[39m.\u001b[39m_construct_result(res_values, name\u001b[39m=\u001b[39mres_name)\n",
      "File \u001b[0;32m/Library/Frameworks/Python.framework/Versions/3.11/lib/python3.11/site-packages/pandas/core/ops/array_ops.py:332\u001b[0m, in \u001b[0;36mcomparison_op\u001b[0;34m(left, right, op)\u001b[0m\n\u001b[1;32m    323\u001b[0m         \u001b[39mraise\u001b[39;00m \u001b[39mValueError\u001b[39;00m(\n\u001b[1;32m    324\u001b[0m             \u001b[39m\"\u001b[39m\u001b[39mLengths must match to compare\u001b[39m\u001b[39m\"\u001b[39m, lvalues\u001b[39m.\u001b[39mshape, rvalues\u001b[39m.\u001b[39mshape\n\u001b[1;32m    325\u001b[0m         )\n\u001b[1;32m    327\u001b[0m \u001b[39mif\u001b[39;00m should_extension_dispatch(lvalues, rvalues) \u001b[39mor\u001b[39;00m (\n\u001b[1;32m    328\u001b[0m     (\u001b[39misinstance\u001b[39m(rvalues, (Timedelta, BaseOffset, Timestamp)) \u001b[39mor\u001b[39;00m right \u001b[39mis\u001b[39;00m NaT)\n\u001b[1;32m    329\u001b[0m     \u001b[39mand\u001b[39;00m lvalues\u001b[39m.\u001b[39mdtype \u001b[39m!=\u001b[39m \u001b[39mobject\u001b[39m\n\u001b[1;32m    330\u001b[0m ):\n\u001b[1;32m    331\u001b[0m     \u001b[39m# Call the method on lvalues\u001b[39;00m\n\u001b[0;32m--> 332\u001b[0m     res_values \u001b[39m=\u001b[39m op(lvalues, rvalues)\n\u001b[1;32m    334\u001b[0m \u001b[39melif\u001b[39;00m is_scalar(rvalues) \u001b[39mand\u001b[39;00m isna(rvalues):  \u001b[39m# TODO: but not pd.NA?\u001b[39;00m\n\u001b[1;32m    335\u001b[0m     \u001b[39m# numpy does not like comparisons vs None\u001b[39;00m\n\u001b[1;32m    336\u001b[0m     \u001b[39mif\u001b[39;00m op \u001b[39mis\u001b[39;00m operator\u001b[39m.\u001b[39mne:\n",
      "File \u001b[0;32m/Library/Frameworks/Python.framework/Versions/3.11/lib/python3.11/site-packages/pandas/core/ops/common.py:76\u001b[0m, in \u001b[0;36m_unpack_zerodim_and_defer.<locals>.new_method\u001b[0;34m(self, other)\u001b[0m\n\u001b[1;32m     72\u001b[0m             \u001b[39mreturn\u001b[39;00m \u001b[39mNotImplemented\u001b[39m\n\u001b[1;32m     74\u001b[0m other \u001b[39m=\u001b[39m item_from_zerodim(other)\n\u001b[0;32m---> 76\u001b[0m \u001b[39mreturn\u001b[39;00m method(\u001b[39mself\u001b[39;49m, other)\n",
      "File \u001b[0;32m/Library/Frameworks/Python.framework/Versions/3.11/lib/python3.11/site-packages/pandas/core/arraylike.py:56\u001b[0m, in \u001b[0;36mOpsMixin.__gt__\u001b[0;34m(self, other)\u001b[0m\n\u001b[1;32m     54\u001b[0m \u001b[39m@unpack_zerodim_and_defer\u001b[39m(\u001b[39m\"\u001b[39m\u001b[39m__gt__\u001b[39m\u001b[39m\"\u001b[39m)\n\u001b[1;32m     55\u001b[0m \u001b[39mdef\u001b[39;00m \u001b[39m__gt__\u001b[39m(\u001b[39mself\u001b[39m, other):\n\u001b[0;32m---> 56\u001b[0m     \u001b[39mreturn\u001b[39;00m \u001b[39mself\u001b[39;49m\u001b[39m.\u001b[39;49m_cmp_method(other, operator\u001b[39m.\u001b[39;49mgt)\n",
      "File \u001b[0;32m/Library/Frameworks/Python.framework/Versions/3.11/lib/python3.11/site-packages/pandas/core/arrays/datetimelike.py:943\u001b[0m, in \u001b[0;36mDatetimeLikeArrayMixin._cmp_method\u001b[0;34m(self, other, op)\u001b[0m\n\u001b[1;32m    941\u001b[0m     other \u001b[39m=\u001b[39m \u001b[39mself\u001b[39m\u001b[39m.\u001b[39m_validate_comparison_value(other)\n\u001b[1;32m    942\u001b[0m \u001b[39mexcept\u001b[39;00m InvalidComparison:\n\u001b[0;32m--> 943\u001b[0m     \u001b[39mreturn\u001b[39;00m invalid_comparison(\u001b[39mself\u001b[39;49m, other, op)\n\u001b[1;32m    945\u001b[0m dtype \u001b[39m=\u001b[39m \u001b[39mgetattr\u001b[39m(other, \u001b[39m\"\u001b[39m\u001b[39mdtype\u001b[39m\u001b[39m\"\u001b[39m, \u001b[39mNone\u001b[39;00m)\n\u001b[1;32m    946\u001b[0m \u001b[39mif\u001b[39;00m is_object_dtype(dtype):\n\u001b[1;32m    947\u001b[0m     \u001b[39m# We have to use comp_method_OBJECT_ARRAY instead of numpy\u001b[39;00m\n\u001b[1;32m    948\u001b[0m     \u001b[39m#  comparison otherwise it would raise when comparing to None\u001b[39;00m\n",
      "File \u001b[0;32m/Library/Frameworks/Python.framework/Versions/3.11/lib/python3.11/site-packages/pandas/core/ops/invalid.py:40\u001b[0m, in \u001b[0;36minvalid_comparison\u001b[0;34m(left, right, op)\u001b[0m\n\u001b[1;32m     38\u001b[0m \u001b[39melse\u001b[39;00m:\n\u001b[1;32m     39\u001b[0m     typ \u001b[39m=\u001b[39m \u001b[39mtype\u001b[39m(right)\u001b[39m.\u001b[39m\u001b[39m__name__\u001b[39m\n\u001b[0;32m---> 40\u001b[0m     \u001b[39mraise\u001b[39;00m \u001b[39mTypeError\u001b[39;00m(\u001b[39mf\u001b[39m\u001b[39m\"\u001b[39m\u001b[39mInvalid comparison between dtype=\u001b[39m\u001b[39m{\u001b[39;00mleft\u001b[39m.\u001b[39mdtype\u001b[39m}\u001b[39;00m\u001b[39m and \u001b[39m\u001b[39m{\u001b[39;00mtyp\u001b[39m}\u001b[39;00m\u001b[39m\"\u001b[39m)\n\u001b[1;32m     41\u001b[0m \u001b[39mreturn\u001b[39;00m res_values\n",
      "\u001b[0;31mTypeError\u001b[0m: Invalid comparison between dtype=timedelta64[s] and int"
     ]
    }
   ],
   "source": [
    "# drop the data points with ride_length less than 0\n",
    "bike_data_v2 = bike_data_v2[bike_data_v2['ride_length'] > 0]\n",
    "bike_data_v2.info()"
   ]
  },
  {
   "cell_type": "code",
   "execution_count": 26,
   "id": "aquatic-prior",
   "metadata": {
    "execution": {
     "iopub.execute_input": "2021-05-04T12:10:21.746097Z",
     "iopub.status.busy": "2021-05-04T12:10:21.745398Z",
     "iopub.status.idle": "2021-05-04T12:10:22.071789Z",
     "shell.execute_reply": "2021-05-04T12:10:22.070401Z"
    },
    "papermill": {
     "duration": 0.381638,
     "end_time": "2021-05-04T12:10:22.072095",
     "exception": false,
     "start_time": "2021-05-04T12:10:21.690457",
     "status": "completed"
    },
    "tags": []
   },
   "outputs": [
    {
     "name": "stdout",
     "output_type": "stream",
     "text": [
      "Number of data points greater than upper_bound: \n",
      " bike_type             380062\n",
      "started_at            380062\n",
      "ended_at              380062\n",
      "start_station_name    380062\n",
      "end_station_name      380062\n",
      "customer_type         380062\n",
      "ride_length           380062\n",
      "dtype: int64\n",
      "Number of data points lower than lower_bound: \n",
      " bike_type             43\n",
      "started_at            43\n",
      "ended_at              43\n",
      "start_station_name    43\n",
      "end_station_name      43\n",
      "customer_type         43\n",
      "ride_length           43\n",
      "dtype: int64\n"
     ]
    }
   ],
   "source": [
    "# Search for outliers\n",
    "Q1 = bike_data_v2['ride_length'].quantile(0.25)\n",
    "Q3 = bike_data_v2['ride_length'].quantile(0.75)\n",
    "IQR = Q3 - Q1\n",
    "upper_bound = Q3 + 1.5*IQR\n",
    "lower_bound = Q1 - 1.5*IQR\n",
    "print(\"Number of data points greater than upper_bound: \\n\",bike_data_v2[(bike_data_v2['ride_length'] > (upper_bound))].count())\n",
    "print(\"Number of data points lower than lower_bound: \\n\",bike_data_v2[(bike_data_v2['ride_length'] < (lower_bound))].count())"
   ]
  },
  {
   "cell_type": "code",
   "execution_count": 27,
   "id": "indirect-static",
   "metadata": {
    "execution": {
     "iopub.execute_input": "2021-05-04T12:10:22.179644Z",
     "iopub.status.busy": "2021-05-04T12:10:22.178684Z",
     "iopub.status.idle": "2021-05-04T12:10:23.653036Z",
     "shell.execute_reply": "2021-05-04T12:10:23.653738Z"
    },
    "papermill": {
     "duration": 1.530966,
     "end_time": "2021-05-04T12:10:23.653930",
     "exception": false,
     "start_time": "2021-05-04T12:10:22.122964",
     "status": "completed"
    },
    "tags": []
   },
   "outputs": [
    {
     "data": {
      "text/html": [
       "<div>\n",
       "<style scoped>\n",
       "    .dataframe tbody tr th:only-of-type {\n",
       "        vertical-align: middle;\n",
       "    }\n",
       "\n",
       "    .dataframe tbody tr th {\n",
       "        vertical-align: top;\n",
       "    }\n",
       "\n",
       "    .dataframe thead th {\n",
       "        text-align: right;\n",
       "    }\n",
       "</style>\n",
       "<table border=\"1\" class=\"dataframe\">\n",
       "  <thead>\n",
       "    <tr style=\"text-align: right;\">\n",
       "      <th></th>\n",
       "      <th>bike_type</th>\n",
       "      <th>started_at</th>\n",
       "      <th>ended_at</th>\n",
       "      <th>start_station_name</th>\n",
       "      <th>end_station_name</th>\n",
       "      <th>customer_type</th>\n",
       "      <th>ride_length</th>\n",
       "    </tr>\n",
       "  </thead>\n",
       "  <tbody>\n",
       "    <tr>\n",
       "      <th>460509</th>\n",
       "      <td>electric_bike</td>\n",
       "      <td>2022-10-01 00:00:15</td>\n",
       "      <td>2022-10-01 00:18:15</td>\n",
       "      <td>Sheffield Ave &amp; Wrightwood Av</td>\n",
       "      <td>Franklin St &amp; Illinois St</td>\n",
       "      <td>member</td>\n",
       "      <td>0 days 00:00:18</td>\n",
       "    </tr>\n",
       "    <tr>\n",
       "      <th>539539</th>\n",
       "      <td>electric_bike</td>\n",
       "      <td>2022-10-01 00:00:19</td>\n",
       "      <td>2022-10-01 00:32:21</td>\n",
       "      <td>Clark St &amp; Bryn Mawr Av</td>\n",
       "      <td>Unknown</td>\n",
       "      <td>casual</td>\n",
       "      <td>0 days 00:00:32</td>\n",
       "    </tr>\n",
       "    <tr>\n",
       "      <th>151231</th>\n",
       "      <td>electric_bike</td>\n",
       "      <td>2022-10-01 00:00:22</td>\n",
       "      <td>2022-10-01 00:06:26</td>\n",
       "      <td>Racine Ave &amp; Congress Pkwy</td>\n",
       "      <td>Wolcott Ave &amp; Polk St</td>\n",
       "      <td>member</td>\n",
       "      <td>0 days 00:00:06</td>\n",
       "    </tr>\n",
       "    <tr>\n",
       "      <th>378745</th>\n",
       "      <td>electric_bike</td>\n",
       "      <td>2022-10-01 00:00:37</td>\n",
       "      <td>2022-10-01 00:01:05</td>\n",
       "      <td>Unknown</td>\n",
       "      <td>Unknown</td>\n",
       "      <td>member</td>\n",
       "      <td>0 days 00:00:00</td>\n",
       "    </tr>\n",
       "    <tr>\n",
       "      <th>312980</th>\n",
       "      <td>electric_bike</td>\n",
       "      <td>2022-10-01 00:00:57</td>\n",
       "      <td>2022-10-01 00:10:11</td>\n",
       "      <td>Unknown</td>\n",
       "      <td>Southport Ave &amp; Roscoe St</td>\n",
       "      <td>member</td>\n",
       "      <td>0 days 00:00:09</td>\n",
       "    </tr>\n",
       "  </tbody>\n",
       "</table>\n",
       "</div>"
      ],
      "text/plain": [
       "            bike_type          started_at            ended_at  \\\n",
       "460509  electric_bike 2022-10-01 00:00:15 2022-10-01 00:18:15   \n",
       "539539  electric_bike 2022-10-01 00:00:19 2022-10-01 00:32:21   \n",
       "151231  electric_bike 2022-10-01 00:00:22 2022-10-01 00:06:26   \n",
       "378745  electric_bike 2022-10-01 00:00:37 2022-10-01 00:01:05   \n",
       "312980  electric_bike 2022-10-01 00:00:57 2022-10-01 00:10:11   \n",
       "\n",
       "                   start_station_name           end_station_name  \\\n",
       "460509  Sheffield Ave & Wrightwood Av  Franklin St & Illinois St   \n",
       "539539        Clark St & Bryn Mawr Av                    Unknown   \n",
       "151231     Racine Ave & Congress Pkwy      Wolcott Ave & Polk St   \n",
       "378745                        Unknown                    Unknown   \n",
       "312980                        Unknown  Southport Ave & Roscoe St   \n",
       "\n",
       "       customer_type     ride_length  \n",
       "460509        member 0 days 00:00:18  \n",
       "539539        casual 0 days 00:00:32  \n",
       "151231        member 0 days 00:00:06  \n",
       "378745        member 0 days 00:00:00  \n",
       "312980        member 0 days 00:00:09  "
      ]
     },
     "execution_count": 27,
     "metadata": {},
     "output_type": "execute_result"
    }
   ],
   "source": [
    "# Move outliers to a different dataframe\n",
    "outliers = bike_data_v2[bike_data_v2['ride_length'] > upper_bound].copy()\n",
    "\n",
    "# Update dataset\n",
    "bike_data_v2 = bike_data_v2[bike_data_v2['ride_length'] < upper_bound].sort_values(by='started_at')\n",
    "bike_data_v2.head()"
   ]
  },
  {
   "cell_type": "code",
   "execution_count": 28,
   "id": "beginning-persian",
   "metadata": {
    "execution": {
     "iopub.execute_input": "2021-05-04T12:10:23.756905Z",
     "iopub.status.busy": "2021-05-04T12:10:23.756200Z",
     "iopub.status.idle": "2021-05-04T12:10:23.989840Z",
     "shell.execute_reply": "2021-05-04T12:10:23.989329Z"
    },
    "papermill": {
     "duration": 0.286376,
     "end_time": "2021-05-04T12:10:23.990005",
     "exception": false,
     "start_time": "2021-05-04T12:10:23.703629",
     "status": "completed"
    },
    "tags": []
   },
   "outputs": [
    {
     "data": {
      "text/html": [
       "<div>\n",
       "<style scoped>\n",
       "    .dataframe tbody tr th:only-of-type {\n",
       "        vertical-align: middle;\n",
       "    }\n",
       "\n",
       "    .dataframe tbody tr th {\n",
       "        vertical-align: top;\n",
       "    }\n",
       "\n",
       "    .dataframe thead th {\n",
       "        text-align: right;\n",
       "    }\n",
       "</style>\n",
       "<table border=\"1\" class=\"dataframe\">\n",
       "  <thead>\n",
       "    <tr style=\"text-align: right;\">\n",
       "      <th></th>\n",
       "      <th>bike_type</th>\n",
       "      <th>started_at</th>\n",
       "      <th>ended_at</th>\n",
       "      <th>start_station_name</th>\n",
       "      <th>end_station_name</th>\n",
       "      <th>customer_type</th>\n",
       "      <th>ride_length</th>\n",
       "    </tr>\n",
       "  </thead>\n",
       "  <tbody>\n",
       "    <tr>\n",
       "      <th>0</th>\n",
       "      <td>electric_bike</td>\n",
       "      <td>2022-10-01 00:00:15</td>\n",
       "      <td>2022-10-01 00:18:15</td>\n",
       "      <td>Sheffield Ave &amp; Wrightwood Av</td>\n",
       "      <td>Franklin St &amp; Illinois St</td>\n",
       "      <td>member</td>\n",
       "      <td>0 days 00:00:18</td>\n",
       "    </tr>\n",
       "    <tr>\n",
       "      <th>1</th>\n",
       "      <td>electric_bike</td>\n",
       "      <td>2022-10-01 00:00:19</td>\n",
       "      <td>2022-10-01 00:32:21</td>\n",
       "      <td>Clark St &amp; Bryn Mawr Av</td>\n",
       "      <td>Unknown</td>\n",
       "      <td>casual</td>\n",
       "      <td>0 days 00:00:32</td>\n",
       "    </tr>\n",
       "    <tr>\n",
       "      <th>2</th>\n",
       "      <td>electric_bike</td>\n",
       "      <td>2022-10-01 00:00:22</td>\n",
       "      <td>2022-10-01 00:06:26</td>\n",
       "      <td>Racine Ave &amp; Congress Pkwy</td>\n",
       "      <td>Wolcott Ave &amp; Polk St</td>\n",
       "      <td>member</td>\n",
       "      <td>0 days 00:00:06</td>\n",
       "    </tr>\n",
       "    <tr>\n",
       "      <th>3</th>\n",
       "      <td>electric_bike</td>\n",
       "      <td>2022-10-01 00:00:37</td>\n",
       "      <td>2022-10-01 00:01:05</td>\n",
       "      <td>Unknown</td>\n",
       "      <td>Unknown</td>\n",
       "      <td>member</td>\n",
       "      <td>0 days 00:00:00</td>\n",
       "    </tr>\n",
       "    <tr>\n",
       "      <th>4</th>\n",
       "      <td>electric_bike</td>\n",
       "      <td>2022-10-01 00:00:57</td>\n",
       "      <td>2022-10-01 00:10:11</td>\n",
       "      <td>Unknown</td>\n",
       "      <td>Southport Ave &amp; Roscoe St</td>\n",
       "      <td>member</td>\n",
       "      <td>0 days 00:00:09</td>\n",
       "    </tr>\n",
       "  </tbody>\n",
       "</table>\n",
       "</div>"
      ],
      "text/plain": [
       "       bike_type          started_at            ended_at  \\\n",
       "0  electric_bike 2022-10-01 00:00:15 2022-10-01 00:18:15   \n",
       "1  electric_bike 2022-10-01 00:00:19 2022-10-01 00:32:21   \n",
       "2  electric_bike 2022-10-01 00:00:22 2022-10-01 00:06:26   \n",
       "3  electric_bike 2022-10-01 00:00:37 2022-10-01 00:01:05   \n",
       "4  electric_bike 2022-10-01 00:00:57 2022-10-01 00:10:11   \n",
       "\n",
       "              start_station_name           end_station_name customer_type  \\\n",
       "0  Sheffield Ave & Wrightwood Av  Franklin St & Illinois St        member   \n",
       "1        Clark St & Bryn Mawr Av                    Unknown        casual   \n",
       "2     Racine Ave & Congress Pkwy      Wolcott Ave & Polk St        member   \n",
       "3                        Unknown                    Unknown        member   \n",
       "4                        Unknown  Southport Ave & Roscoe St        member   \n",
       "\n",
       "      ride_length  \n",
       "0 0 days 00:00:18  \n",
       "1 0 days 00:00:32  \n",
       "2 0 days 00:00:06  \n",
       "3 0 days 00:00:00  \n",
       "4 0 days 00:00:09  "
      ]
     },
     "execution_count": 28,
     "metadata": {},
     "output_type": "execute_result"
    }
   ],
   "source": [
    "# Reset indexes\n",
    "bike_data_v2 = bike_data_v2.reset_index(drop=True)\n",
    "bike_data_v2.head()"
   ]
  },
  {
   "cell_type": "markdown",
   "id": "fluid-orbit",
   "metadata": {
    "papermill": {
     "duration": 0.050938,
     "end_time": "2021-05-04T12:10:24.092134",
     "exception": false,
     "start_time": "2021-05-04T12:10:24.041196",
     "status": "completed"
    },
    "tags": []
   },
   "source": [
    "5th row of the dataset above has the same start and end station name. The ride length also less than 1 minute. The customer might have a change of mind and docked the bike back to the station. Let's see if there are rows with the same case as the 5th row."
   ]
  },
  {
   "cell_type": "code",
   "execution_count": 31,
   "id": "26d97996",
   "metadata": {},
   "outputs": [
    {
     "name": "stdout",
     "output_type": "stream",
     "text": [
      "<class 'pandas.core.frame.DataFrame'>\n",
      "RangeIndex: 5272365 entries, 0 to 5272364\n",
      "Data columns (total 7 columns):\n",
      " #   Column              Dtype         \n",
      "---  ------              -----         \n",
      " 0   bike_type           object        \n",
      " 1   started_at          datetime64[ns]\n",
      " 2   ended_at            datetime64[ns]\n",
      " 3   start_station_name  object        \n",
      " 4   end_station_name    object        \n",
      " 5   customer_type       object        \n",
      " 6   ride_length         timedelta64[s]\n",
      "dtypes: datetime64[ns](2), object(4), timedelta64[s](1)\n",
      "memory usage: 281.6+ MB\n"
     ]
    }
   ],
   "source": [
    "bike_data_v2.info()"
   ]
  },
  {
   "cell_type": "code",
   "execution_count": null,
   "id": "excessive-adobe",
   "metadata": {
    "execution": {
     "iopub.execute_input": "2021-05-04T12:10:24.993804Z",
     "iopub.status.busy": "2021-05-04T12:10:24.993129Z",
     "iopub.status.idle": "2021-05-04T12:10:25.048833Z",
     "shell.execute_reply": "2021-05-04T12:10:25.048264Z"
    },
    "papermill": {
     "duration": 0.90574,
     "end_time": "2021-05-04T12:10:25.048998",
     "exception": false,
     "start_time": "2021-05-04T12:10:24.143258",
     "status": "completed"
    },
    "tags": []
   },
   "outputs": [],
   "source": [
    "# Counting rows that have the same start and end station name, and ride length less than 1 minute\n",
    "temp = bike_data_v2.loc[(bike_data_v2['start_station_name'] == bike_data_v2['end_station_name']) & (bike_data_v2['ride_length']<1)].copy()\n",
    "temp"
   ]
  },
  {
   "cell_type": "markdown",
   "id": "third-needle",
   "metadata": {
    "papermill": {
     "duration": 0.053085,
     "end_time": "2021-05-04T12:10:25.156319",
     "exception": false,
     "start_time": "2021-05-04T12:10:25.103234",
     "status": "completed"
    },
    "tags": []
   },
   "source": [
    "There are 45379 cases where start station name and end station name is the same, and ride length less than 1 minute. Those rows can be dropped assuming that it occurred because the customers cancelled the ride and docked the bike back to the station."
   ]
  },
  {
   "cell_type": "code",
   "execution_count": 24,
   "id": "prostate-vulnerability",
   "metadata": {
    "execution": {
     "iopub.execute_input": "2021-05-04T12:10:25.280712Z",
     "iopub.status.busy": "2021-05-04T12:10:25.279714Z",
     "iopub.status.idle": "2021-05-04T12:10:25.647296Z",
     "shell.execute_reply": "2021-05-04T12:10:25.646579Z"
    },
    "papermill": {
     "duration": 0.437123,
     "end_time": "2021-05-04T12:10:25.647440",
     "exception": false,
     "start_time": "2021-05-04T12:10:25.210317",
     "status": "completed"
    },
    "tags": []
   },
   "outputs": [
    {
     "data": {
      "text/html": [
       "<div>\n",
       "<style scoped>\n",
       "    .dataframe tbody tr th:only-of-type {\n",
       "        vertical-align: middle;\n",
       "    }\n",
       "\n",
       "    .dataframe tbody tr th {\n",
       "        vertical-align: top;\n",
       "    }\n",
       "\n",
       "    .dataframe thead th {\n",
       "        text-align: right;\n",
       "    }\n",
       "</style>\n",
       "<table border=\"1\" class=\"dataframe\">\n",
       "  <thead>\n",
       "    <tr style=\"text-align: right;\">\n",
       "      <th></th>\n",
       "      <th>bike_type</th>\n",
       "      <th>started_at</th>\n",
       "      <th>ended_at</th>\n",
       "      <th>start_station_name</th>\n",
       "      <th>end_station_name</th>\n",
       "      <th>customer_type</th>\n",
       "      <th>ride_length</th>\n",
       "    </tr>\n",
       "  </thead>\n",
       "  <tbody>\n",
       "    <tr>\n",
       "      <th>0</th>\n",
       "      <td>classic_bike</td>\n",
       "      <td>2020-04-01 00:00:30</td>\n",
       "      <td>2020-04-01 00:23:03</td>\n",
       "      <td>Damen Ave &amp; Wellington Av</td>\n",
       "      <td>Pine Grove Ave &amp; Waveland Av</td>\n",
       "      <td>casual</td>\n",
       "      <td>22.550000</td>\n",
       "    </tr>\n",
       "    <tr>\n",
       "      <th>1</th>\n",
       "      <td>classic_bike</td>\n",
       "      <td>2020-04-01 00:02:35</td>\n",
       "      <td>2020-04-01 00:10:45</td>\n",
       "      <td>Wabash Ave &amp; 16th St</td>\n",
       "      <td>Wabash Ave &amp; 9th St</td>\n",
       "      <td>member</td>\n",
       "      <td>8.166667</td>\n",
       "    </tr>\n",
       "    <tr>\n",
       "      <th>2</th>\n",
       "      <td>classic_bike</td>\n",
       "      <td>2020-04-01 00:02:41</td>\n",
       "      <td>2020-04-01 00:24:20</td>\n",
       "      <td>Damen Ave &amp; Wellington Av</td>\n",
       "      <td>Spaulding Ave &amp; Armitage Av</td>\n",
       "      <td>casual</td>\n",
       "      <td>21.650000</td>\n",
       "    </tr>\n",
       "    <tr>\n",
       "      <th>3</th>\n",
       "      <td>classic_bike</td>\n",
       "      <td>2020-04-01 00:06:44</td>\n",
       "      <td>2020-04-01 00:14:01</td>\n",
       "      <td>Mies van der Rohe Way &amp; Chicago Av</td>\n",
       "      <td>Clark St &amp; Schiller St</td>\n",
       "      <td>member</td>\n",
       "      <td>7.283333</td>\n",
       "    </tr>\n",
       "    <tr>\n",
       "      <th>5</th>\n",
       "      <td>classic_bike</td>\n",
       "      <td>2020-04-01 00:13:36</td>\n",
       "      <td>2020-04-01 00:18:59</td>\n",
       "      <td>Kingsbury St &amp; Erie St</td>\n",
       "      <td>Larrabee St &amp; Division St</td>\n",
       "      <td>member</td>\n",
       "      <td>5.383333</td>\n",
       "    </tr>\n",
       "  </tbody>\n",
       "</table>\n",
       "</div>"
      ],
      "text/plain": [
       "      bike_type          started_at            ended_at  \\\n",
       "0  classic_bike 2020-04-01 00:00:30 2020-04-01 00:23:03   \n",
       "1  classic_bike 2020-04-01 00:02:35 2020-04-01 00:10:45   \n",
       "2  classic_bike 2020-04-01 00:02:41 2020-04-01 00:24:20   \n",
       "3  classic_bike 2020-04-01 00:06:44 2020-04-01 00:14:01   \n",
       "5  classic_bike 2020-04-01 00:13:36 2020-04-01 00:18:59   \n",
       "\n",
       "                   start_station_name              end_station_name  \\\n",
       "0           Damen Ave & Wellington Av  Pine Grove Ave & Waveland Av   \n",
       "1                Wabash Ave & 16th St           Wabash Ave & 9th St   \n",
       "2           Damen Ave & Wellington Av   Spaulding Ave & Armitage Av   \n",
       "3  Mies van der Rohe Way & Chicago Av        Clark St & Schiller St   \n",
       "5              Kingsbury St & Erie St     Larrabee St & Division St   \n",
       "\n",
       "  customer_type  ride_length  \n",
       "0        casual    22.550000  \n",
       "1        member     8.166667  \n",
       "2        casual    21.650000  \n",
       "3        member     7.283333  \n",
       "5        member     5.383333  "
      ]
     },
     "execution_count": 24,
     "metadata": {},
     "output_type": "execute_result"
    }
   ],
   "source": [
    "# drop rows that have the same start and end station name, and ride length less than 1 minute\n",
    "idx = temp.index.to_list()\n",
    "bike_data_v2 = bike_data_v2.drop(idx)\n",
    "bike_data_v2.head()"
   ]
  },
  {
   "cell_type": "code",
   "execution_count": 25,
   "id": "living-stone",
   "metadata": {
    "execution": {
     "iopub.execute_input": "2021-05-04T12:10:25.762779Z",
     "iopub.status.busy": "2021-05-04T12:10:25.761801Z",
     "iopub.status.idle": "2021-05-04T12:10:26.356081Z",
     "shell.execute_reply": "2021-05-04T12:10:26.355466Z"
    },
    "papermill": {
     "duration": 0.654708,
     "end_time": "2021-05-04T12:10:26.356230",
     "exception": false,
     "start_time": "2021-05-04T12:10:25.701522",
     "status": "completed"
    },
    "tags": []
   },
   "outputs": [
    {
     "name": "stdout",
     "output_type": "stream",
     "text": [
      "<class 'pandas.core.frame.DataFrame'>\n",
      "RangeIndex: 3156081 entries, 0 to 3156080\n",
      "Data columns (total 7 columns):\n",
      " #   Column              Dtype         \n",
      "---  ------              -----         \n",
      " 0   bike_type           object        \n",
      " 1   started_at          datetime64[ns]\n",
      " 2   ended_at            datetime64[ns]\n",
      " 3   start_station_name  object        \n",
      " 4   end_station_name    object        \n",
      " 5   customer_type       object        \n",
      " 6   ride_length         float64       \n",
      "dtypes: datetime64[ns](2), float64(1), object(4)\n",
      "memory usage: 168.6+ MB\n"
     ]
    }
   ],
   "source": [
    "# Copy cleaned data to a new dataframe\n",
    "bike_data_v3 = bike_data_v2.reset_index(drop=True).copy()\n",
    "bike_data_v3.info()"
   ]
  },
  {
   "cell_type": "markdown",
   "id": "broke-cannon",
   "metadata": {
    "papermill": {
     "duration": 0.053756,
     "end_time": "2021-05-04T12:10:26.462811",
     "exception": false,
     "start_time": "2021-05-04T12:10:26.409055",
     "status": "completed"
    },
    "tags": []
   },
   "source": [
    "### **It's Time for Exploration!**\n",
    "\n",
    "After cleaning the dataset, let's explore the data to answer the questions and develop marketing strategies to convert casual riders into annual members"
   ]
  },
  {
   "cell_type": "markdown",
   "id": "improved-start",
   "metadata": {
    "papermill": {
     "duration": 0.054726,
     "end_time": "2021-05-04T12:10:26.572564",
     "exception": false,
     "start_time": "2021-05-04T12:10:26.517838",
     "status": "completed"
    },
    "tags": []
   },
   "source": [
    "#### **1. What is the weekly average of ride length for casual riders and members?**"
   ]
  },
  {
   "cell_type": "code",
   "execution_count": 26,
   "id": "knowing-sixth",
   "metadata": {
    "execution": {
     "iopub.execute_input": "2021-05-04T12:10:26.687259Z",
     "iopub.status.busy": "2021-05-04T12:10:26.686588Z",
     "iopub.status.idle": "2021-05-04T12:10:27.135267Z",
     "shell.execute_reply": "2021-05-04T12:10:27.134666Z"
    },
    "papermill": {
     "duration": 0.50653,
     "end_time": "2021-05-04T12:10:27.135420",
     "exception": false,
     "start_time": "2021-05-04T12:10:26.628890",
     "status": "completed"
    },
    "tags": []
   },
   "outputs": [],
   "source": [
    "# Group dataset by 'customer_type' and Week\n",
    "weekly_rides = bike_data_v3.groupby([pd.Grouper(key='started_at', freq='1W'),'customer_type'])['ride_length'].mean()\n",
    "weekly_rides = weekly_rides.reset_index()"
   ]
  },
  {
   "cell_type": "code",
   "execution_count": 27,
   "id": "another-image",
   "metadata": {
    "execution": {
     "iopub.execute_input": "2021-05-04T12:10:27.254608Z",
     "iopub.status.busy": "2021-05-04T12:10:27.253576Z",
     "iopub.status.idle": "2021-05-04T12:10:27.258539Z",
     "shell.execute_reply": "2021-05-04T12:10:27.257788Z"
    },
    "papermill": {
     "duration": 0.070073,
     "end_time": "2021-05-04T12:10:27.258717",
     "exception": false,
     "start_time": "2021-05-04T12:10:27.188644",
     "status": "completed"
    },
    "tags": []
   },
   "outputs": [
    {
     "data": {
      "text/html": [
       "<div>\n",
       "<style scoped>\n",
       "    .dataframe tbody tr th:only-of-type {\n",
       "        vertical-align: middle;\n",
       "    }\n",
       "\n",
       "    .dataframe tbody tr th {\n",
       "        vertical-align: top;\n",
       "    }\n",
       "\n",
       "    .dataframe thead th {\n",
       "        text-align: right;\n",
       "    }\n",
       "</style>\n",
       "<table border=\"1\" class=\"dataframe\">\n",
       "  <thead>\n",
       "    <tr style=\"text-align: right;\">\n",
       "      <th></th>\n",
       "      <th>started_at</th>\n",
       "      <th>customer_type</th>\n",
       "      <th>ride_length</th>\n",
       "    </tr>\n",
       "  </thead>\n",
       "  <tbody>\n",
       "    <tr>\n",
       "      <th>101</th>\n",
       "      <td>2021-03-21</td>\n",
       "      <td>member</td>\n",
       "      <td>13.252138</td>\n",
       "    </tr>\n",
       "    <tr>\n",
       "      <th>102</th>\n",
       "      <td>2021-03-28</td>\n",
       "      <td>casual</td>\n",
       "      <td>18.941393</td>\n",
       "    </tr>\n",
       "    <tr>\n",
       "      <th>103</th>\n",
       "      <td>2021-03-28</td>\n",
       "      <td>member</td>\n",
       "      <td>12.835266</td>\n",
       "    </tr>\n",
       "    <tr>\n",
       "      <th>104</th>\n",
       "      <td>2021-04-04</td>\n",
       "      <td>casual</td>\n",
       "      <td>19.288285</td>\n",
       "    </tr>\n",
       "    <tr>\n",
       "      <th>105</th>\n",
       "      <td>2021-04-04</td>\n",
       "      <td>member</td>\n",
       "      <td>12.643983</td>\n",
       "    </tr>\n",
       "  </tbody>\n",
       "</table>\n",
       "</div>"
      ],
      "text/plain": [
       "    started_at customer_type  ride_length\n",
       "101 2021-03-21        member    13.252138\n",
       "102 2021-03-28        casual    18.941393\n",
       "103 2021-03-28        member    12.835266\n",
       "104 2021-04-04        casual    19.288285\n",
       "105 2021-04-04        member    12.643983"
      ]
     },
     "execution_count": 27,
     "metadata": {},
     "output_type": "execute_result"
    }
   ],
   "source": [
    "weekly_rides.tail()"
   ]
  },
  {
   "cell_type": "code",
   "execution_count": 28,
   "id": "another-depth",
   "metadata": {
    "execution": {
     "iopub.execute_input": "2021-05-04T12:10:27.380770Z",
     "iopub.status.busy": "2021-05-04T12:10:27.380153Z",
     "iopub.status.idle": "2021-05-04T12:10:27.386092Z",
     "shell.execute_reply": "2021-05-04T12:10:27.385570Z"
    },
    "papermill": {
     "duration": 0.06806,
     "end_time": "2021-05-04T12:10:27.386234",
     "exception": false,
     "start_time": "2021-05-04T12:10:27.318174",
     "status": "completed"
    },
    "tags": []
   },
   "outputs": [],
   "source": [
    "# Rename 'ride_length' column name\n",
    "weekly_rides = weekly_rides.rename(columns={'ride_length':'avg_ride_length'})"
   ]
  },
  {
   "cell_type": "code",
   "execution_count": 29,
   "id": "frozen-measure",
   "metadata": {
    "execution": {
     "iopub.execute_input": "2021-05-04T12:10:27.497133Z",
     "iopub.status.busy": "2021-05-04T12:10:27.496478Z",
     "iopub.status.idle": "2021-05-04T12:10:27.504858Z",
     "shell.execute_reply": "2021-05-04T12:10:27.505347Z"
    },
    "papermill": {
     "duration": 0.065929,
     "end_time": "2021-05-04T12:10:27.505531",
     "exception": false,
     "start_time": "2021-05-04T12:10:27.439602",
     "status": "completed"
    },
    "tags": []
   },
   "outputs": [
    {
     "data": {
      "text/plain": [
       "customer_type\n",
       "casual    19.453999\n",
       "member    14.325874\n",
       "Name: avg_ride_length, dtype: float64"
      ]
     },
     "execution_count": 29,
     "metadata": {},
     "output_type": "execute_result"
    }
   ],
   "source": [
    "# Group weekly_rides dataframe by 'customer_type' and aggregate ride_length using mean()\n",
    "avg_weekly_rides = weekly_rides.groupby('customer_type')['avg_ride_length'].mean()\n",
    "avg_weekly_rides"
   ]
  },
  {
   "cell_type": "code",
   "execution_count": 30,
   "id": "controlling-amsterdam",
   "metadata": {
    "execution": {
     "iopub.execute_input": "2021-05-04T12:10:27.617182Z",
     "iopub.status.busy": "2021-05-04T12:10:27.616472Z",
     "iopub.status.idle": "2021-05-04T12:10:27.814900Z",
     "shell.execute_reply": "2021-05-04T12:10:27.814297Z"
    },
    "papermill": {
     "duration": 0.255341,
     "end_time": "2021-05-04T12:10:27.815044",
     "exception": false,
     "start_time": "2021-05-04T12:10:27.559703",
     "status": "completed"
    },
    "tags": []
   },
   "outputs": [
    {
     "data": {
      "image/png": "[encoded data removed]",
      "text/plain": [
       "<Figure size 432x288 with 1 Axes>"
      ]
     },
     "metadata": {
      "needs_background": "light"
     },
     "output_type": "display_data"
    }
   ],
   "source": [
    "# Visualize\n",
    "sns.set_palette('Paired')\n",
    "fig, ax = plt.subplots()\n",
    "sns.barplot(x=avg_weekly_rides.index, y=avg_weekly_rides)\n",
    "ax.set_title('Weekly Average Ride Length\\nby Customer Type')\n",
    "ax.set_xlabel('Customer Type')\n",
    "ax.set_ylabel('Average Ride Length (Minutes)')\n",
    "fig.show()"
   ]
  },
  {
   "cell_type": "markdown",
   "id": "younger-wisconsin",
   "metadata": {
    "papermill": {
     "duration": 0.057489,
     "end_time": "2021-05-04T12:10:27.928846",
     "exception": false,
     "start_time": "2021-05-04T12:10:27.871357",
     "status": "completed"
    },
    "tags": []
   },
   "source": [
    "Bar chart above shows that **casual riders tend to ride longer than annual members**"
   ]
  },
  {
   "cell_type": "markdown",
   "id": "ca97f325",
   "metadata": {},
   "source": []
  },
  {
   "cell_type": "markdown",
   "id": "third-grocery",
   "metadata": {
    "papermill": {
     "duration": 0.057689,
     "end_time": "2021-05-04T12:10:28.044145",
     "exception": false,
     "start_time": "2021-05-04T12:10:27.986456",
     "status": "completed"
    },
    "tags": []
   },
   "source": [
    "#### **2. Is there a correlation between the seasons in chicago and number of rides?**\n",
    "\n",
    "For this question we need a new column that describes the seasons according to the dates. Based on [seasonsyear.com](https://seasonsyear.com/USA/Illinois/Chicago), there are 4 seasons in Chicago: Spring starts from March until May, Summer starts from June until August, Autumn starts from September until November, and Winter starts from December until February."
   ]
  },
  {
   "cell_type": "code",
   "execution_count": 31,
   "id": "familiar-technical",
   "metadata": {
    "execution": {
     "iopub.execute_input": "2021-05-04T12:10:28.167845Z",
     "iopub.status.busy": "2021-05-04T12:10:28.167144Z",
     "iopub.status.idle": "2021-05-04T12:10:28.636630Z",
     "shell.execute_reply": "2021-05-04T12:10:28.635781Z"
    },
    "papermill": {
     "duration": 0.534427,
     "end_time": "2021-05-04T12:10:28.636798",
     "exception": false,
     "start_time": "2021-05-04T12:10:28.102371",
     "status": "completed"
    },
    "tags": []
   },
   "outputs": [],
   "source": [
    "# Group data daily and by customer_type\n",
    "daily_rides_count = bike_data_v3.groupby([pd.Grouper(key='started_at', freq='1D'),'customer_type'])['ride_length'].count().reset_index()\n",
    "\n",
    "# Rename 'ride_length' column name\n",
    "daily_rides_count = daily_rides_count.rename(columns={'ride_length':'daily_num_rides'})\n",
    "\n",
    "# Define function to detect season\n",
    "def identify_season(month):\n",
    "    if month == 1 or month == 2 or month == 12:\n",
    "        season = 'Winter'\n",
    "    elif month == 3 or month == 4 or month == 5:\n",
    "        season = 'Spring'\n",
    "    elif month == 6 or month == 7 or month == 8:\n",
    "        season = 'Summer'\n",
    "    elif month == 9 or month == 10 or month == 11:\n",
    "        season = 'Autumn'\n",
    "    return season\n",
    "\n",
    "# Add month, and season_rep columns to weekly_rides \n",
    "daily_rides_count['month'] = daily_rides_count['started_at'].dt.month\n",
    "\n",
    "# Add a new column to weekly_rides dataframe which describes the seasons\n",
    "season_list = []\n",
    "for month in daily_rides_count['month']:\n",
    "    season_list.append(identify_season(month))\n",
    "    \n",
    "daily_rides_count['season'] = season_list"
   ]
  },
  {
   "cell_type": "code",
   "execution_count": 32,
   "id": "stretch-portugal",
   "metadata": {
    "execution": {
     "iopub.execute_input": "2021-05-04T12:10:28.773415Z",
     "iopub.status.busy": "2021-05-04T12:10:28.766805Z",
     "iopub.status.idle": "2021-05-04T12:10:28.777789Z",
     "shell.execute_reply": "2021-05-04T12:10:28.777246Z"
    },
    "papermill": {
     "duration": 0.077621,
     "end_time": "2021-05-04T12:10:28.777946",
     "exception": false,
     "start_time": "2021-05-04T12:10:28.700325",
     "status": "completed"
    },
    "tags": []
   },
   "outputs": [
    {
     "data": {
      "text/html": [
       "<div>\n",
       "<style scoped>\n",
       "    .dataframe tbody tr th:only-of-type {\n",
       "        vertical-align: middle;\n",
       "    }\n",
       "\n",
       "    .dataframe tbody tr th {\n",
       "        vertical-align: top;\n",
       "    }\n",
       "\n",
       "    .dataframe thead th {\n",
       "        text-align: right;\n",
       "    }\n",
       "</style>\n",
       "<table border=\"1\" class=\"dataframe\">\n",
       "  <thead>\n",
       "    <tr style=\"text-align: right;\">\n",
       "      <th></th>\n",
       "      <th>started_at</th>\n",
       "      <th>customer_type</th>\n",
       "      <th>daily_num_rides</th>\n",
       "      <th>month</th>\n",
       "      <th>season</th>\n",
       "      <th>season_rep</th>\n",
       "    </tr>\n",
       "  </thead>\n",
       "  <tbody>\n",
       "    <tr>\n",
       "      <th>0</th>\n",
       "      <td>2020-04-01</td>\n",
       "      <td>casual</td>\n",
       "      <td>355</td>\n",
       "      <td>4</td>\n",
       "      <td>Spring</td>\n",
       "      <td>2</td>\n",
       "    </tr>\n",
       "    <tr>\n",
       "      <th>1</th>\n",
       "      <td>2020-04-01</td>\n",
       "      <td>member</td>\n",
       "      <td>1839</td>\n",
       "      <td>4</td>\n",
       "      <td>Spring</td>\n",
       "      <td>2</td>\n",
       "    </tr>\n",
       "    <tr>\n",
       "      <th>2</th>\n",
       "      <td>2020-04-02</td>\n",
       "      <td>casual</td>\n",
       "      <td>443</td>\n",
       "      <td>4</td>\n",
       "      <td>Spring</td>\n",
       "      <td>2</td>\n",
       "    </tr>\n",
       "    <tr>\n",
       "      <th>3</th>\n",
       "      <td>2020-04-02</td>\n",
       "      <td>member</td>\n",
       "      <td>1985</td>\n",
       "      <td>4</td>\n",
       "      <td>Spring</td>\n",
       "      <td>2</td>\n",
       "    </tr>\n",
       "    <tr>\n",
       "      <th>4</th>\n",
       "      <td>2020-04-03</td>\n",
       "      <td>casual</td>\n",
       "      <td>786</td>\n",
       "      <td>4</td>\n",
       "      <td>Spring</td>\n",
       "      <td>2</td>\n",
       "    </tr>\n",
       "  </tbody>\n",
       "</table>\n",
       "</div>"
      ],
      "text/plain": [
       "  started_at customer_type  daily_num_rides  month  season  season_rep\n",
       "0 2020-04-01        casual              355      4  Spring           2\n",
       "1 2020-04-01        member             1839      4  Spring           2\n",
       "2 2020-04-02        casual              443      4  Spring           2\n",
       "3 2020-04-02        member             1985      4  Spring           2\n",
       "4 2020-04-03        casual              786      4  Spring           2"
      ]
     },
     "execution_count": 32,
     "metadata": {},
     "output_type": "execute_result"
    }
   ],
   "source": [
    "# Add season representation column 1=Winter 2=Spring 3=Summer 4=Autumn\n",
    "daily_rides_count['season_rep'] = daily_rides_count['started_at'].dt.month%12//3+1\n",
    "daily_rides_count.head()"
   ]
  },
  {
   "cell_type": "code",
   "execution_count": 33,
   "id": "united-nightlife",
   "metadata": {
    "execution": {
     "iopub.execute_input": "2021-05-04T12:10:28.928288Z",
     "iopub.status.busy": "2021-05-04T12:10:28.923741Z",
     "iopub.status.idle": "2021-05-04T12:10:29.262274Z",
     "shell.execute_reply": "2021-05-04T12:10:29.262857Z"
    },
    "papermill": {
     "duration": 0.426096,
     "end_time": "2021-05-04T12:10:29.263063",
     "exception": false,
     "start_time": "2021-05-04T12:10:28.836967",
     "status": "completed"
    },
    "tags": []
   },
   "outputs": [
    {
     "data": {
      "image/png": "[encoded data removed]",
      "text/plain": [
       "<Figure size 504x360 with 1 Axes>"
      ]
     },
     "metadata": {
      "needs_background": "light"
     },
     "output_type": "display_data"
    }
   ],
   "source": [
    "# Visualize\n",
    "fig2, ax2 = plt.subplots()\n",
    "fig2.set_size_inches(7,5)\n",
    "sns.scatterplot(data=daily_rides_count, x='started_at', y='daily_num_rides', hue='season', palette='ocean_r')\n",
    "ax2.set_title('Daily Number of Rides', fontsize='16')\n",
    "ax2.set_xlabel('Date')\n",
    "ax2.set_ylabel('')\n",
    "ax2.legend(frameon=False)\n",
    "fig2.show()"
   ]
  },
  {
   "cell_type": "code",
   "execution_count": 34,
   "id": "verified-kelly",
   "metadata": {
    "execution": {
     "iopub.execute_input": "2021-05-04T12:10:29.389446Z",
     "iopub.status.busy": "2021-05-04T12:10:29.388761Z",
     "iopub.status.idle": "2021-05-04T12:10:29.395736Z",
     "shell.execute_reply": "2021-05-04T12:10:29.395243Z"
    },
    "papermill": {
     "duration": 0.071394,
     "end_time": "2021-05-04T12:10:29.395898",
     "exception": false,
     "start_time": "2021-05-04T12:10:29.324504",
     "status": "completed"
    },
    "tags": []
   },
   "outputs": [
    {
     "name": "stdout",
     "output_type": "stream",
     "text": [
      "Correlation between daily number of rides and seasons :  0.61\n"
     ]
    }
   ],
   "source": [
    "# Correlation value\n",
    "cor = daily_rides_count['daily_num_rides'].corr(daily_rides_count['season_rep'])\n",
    "print(\"Correlation between daily number of rides and seasons : \", round(cor,3))"
   ]
  },
  {
   "cell_type": "markdown",
   "id": "legitimate-possible",
   "metadata": {
    "papermill": {
     "duration": 0.059028,
     "end_time": "2021-05-04T12:10:29.514572",
     "exception": false,
     "start_time": "2021-05-04T12:10:29.455544",
     "status": "completed"
    },
    "tags": []
   },
   "source": [
    "The above chart shows that there is an uptrend between spring and summer, with the peak is on late august. Autumn until Winter, the daily number of rides declines with the bottom is on February. The correlation is also quiet strong with the value of **0.61**. It means that **as the season gets warmer, the number of rides tend to have an uptrend. On the contrary, if the season gets colder, the number of rides tend to have a downtrend.**\n",
    "\n",
    "#### **3. Is there a correlation between the seasons in chicago and ride length?**"
   ]
  },
  {
   "cell_type": "code",
   "execution_count": 35,
   "id": "manual-stomach",
   "metadata": {
    "execution": {
     "iopub.execute_input": "2021-05-04T12:10:29.641109Z",
     "iopub.status.busy": "2021-05-04T12:10:29.640121Z",
     "iopub.status.idle": "2021-05-04T12:10:30.067395Z",
     "shell.execute_reply": "2021-05-04T12:10:30.067882Z"
    },
    "papermill": {
     "duration": 0.49432,
     "end_time": "2021-05-04T12:10:30.068078",
     "exception": false,
     "start_time": "2021-05-04T12:10:29.573758",
     "status": "completed"
    },
    "tags": []
   },
   "outputs": [],
   "source": [
    "# Group data daily and by customer_type\n",
    "daily_rlength_avg = bike_data_v3.groupby([pd.Grouper(key='started_at', freq='1D'),'customer_type'])['ride_length'].mean().reset_index()\n",
    "\n",
    "# Rename 'ride_length' column name\n",
    "daily_rlength_avg = daily_rlength_avg.rename(columns={'ride_length':'avg_daily_rlength'})\n",
    "\n",
    "# Add month column to weekly_rides \n",
    "daily_rlength_avg['month'] = daily_rlength_avg['started_at'].dt.month\n",
    "# Add a new column to weekly_rides dataframe which describes the seasons\n",
    "season_list = []\n",
    "\n",
    "for month in daily_rlength_avg['month']:\n",
    "    season_list.append(identify_season(month))\n",
    "    \n",
    "daily_rlength_avg['season'] = season_list"
   ]
  },
  {
   "cell_type": "code",
   "execution_count": 36,
   "id": "animated-embassy",
   "metadata": {
    "execution": {
     "iopub.execute_input": "2021-05-04T12:10:30.203021Z",
     "iopub.status.busy": "2021-05-04T12:10:30.202104Z",
     "iopub.status.idle": "2021-05-04T12:10:30.206568Z",
     "shell.execute_reply": "2021-05-04T12:10:30.206075Z"
    },
    "papermill": {
     "duration": 0.078901,
     "end_time": "2021-05-04T12:10:30.206707",
     "exception": false,
     "start_time": "2021-05-04T12:10:30.127806",
     "status": "completed"
    },
    "tags": []
   },
   "outputs": [
    {
     "data": {
      "text/html": [
       "<div>\n",
       "<style scoped>\n",
       "    .dataframe tbody tr th:only-of-type {\n",
       "        vertical-align: middle;\n",
       "    }\n",
       "\n",
       "    .dataframe tbody tr th {\n",
       "        vertical-align: top;\n",
       "    }\n",
       "\n",
       "    .dataframe thead th {\n",
       "        text-align: right;\n",
       "    }\n",
       "</style>\n",
       "<table border=\"1\" class=\"dataframe\">\n",
       "  <thead>\n",
       "    <tr style=\"text-align: right;\">\n",
       "      <th></th>\n",
       "      <th>started_at</th>\n",
       "      <th>customer_type</th>\n",
       "      <th>avg_daily_rlength</th>\n",
       "      <th>month</th>\n",
       "      <th>season</th>\n",
       "      <th>season_rep</th>\n",
       "    </tr>\n",
       "  </thead>\n",
       "  <tbody>\n",
       "    <tr>\n",
       "      <th>0</th>\n",
       "      <td>2020-04-01</td>\n",
       "      <td>casual</td>\n",
       "      <td>23.412629</td>\n",
       "      <td>4</td>\n",
       "      <td>Spring</td>\n",
       "      <td>2</td>\n",
       "    </tr>\n",
       "    <tr>\n",
       "      <th>1</th>\n",
       "      <td>2020-04-01</td>\n",
       "      <td>member</td>\n",
       "      <td>15.199311</td>\n",
       "      <td>4</td>\n",
       "      <td>Spring</td>\n",
       "      <td>2</td>\n",
       "    </tr>\n",
       "    <tr>\n",
       "      <th>2</th>\n",
       "      <td>2020-04-02</td>\n",
       "      <td>casual</td>\n",
       "      <td>23.188450</td>\n",
       "      <td>4</td>\n",
       "      <td>Spring</td>\n",
       "      <td>2</td>\n",
       "    </tr>\n",
       "    <tr>\n",
       "      <th>3</th>\n",
       "      <td>2020-04-02</td>\n",
       "      <td>member</td>\n",
       "      <td>15.776373</td>\n",
       "      <td>4</td>\n",
       "      <td>Spring</td>\n",
       "      <td>2</td>\n",
       "    </tr>\n",
       "    <tr>\n",
       "      <th>4</th>\n",
       "      <td>2020-04-03</td>\n",
       "      <td>casual</td>\n",
       "      <td>24.452587</td>\n",
       "      <td>4</td>\n",
       "      <td>Spring</td>\n",
       "      <td>2</td>\n",
       "    </tr>\n",
       "  </tbody>\n",
       "</table>\n",
       "</div>"
      ],
      "text/plain": [
       "  started_at customer_type  avg_daily_rlength  month  season  season_rep\n",
       "0 2020-04-01        casual          23.412629      4  Spring           2\n",
       "1 2020-04-01        member          15.199311      4  Spring           2\n",
       "2 2020-04-02        casual          23.188450      4  Spring           2\n",
       "3 2020-04-02        member          15.776373      4  Spring           2\n",
       "4 2020-04-03        casual          24.452587      4  Spring           2"
      ]
     },
     "execution_count": 36,
     "metadata": {},
     "output_type": "execute_result"
    }
   ],
   "source": [
    "daily_rlength_avg['season_rep'] = daily_rlength_avg['started_at'].dt.month%12//3+1\n",
    "daily_rlength_avg.head()"
   ]
  },
  {
   "cell_type": "code",
   "execution_count": 37,
   "id": "computational-camel",
   "metadata": {
    "execution": {
     "iopub.execute_input": "2021-05-04T12:10:30.360691Z",
     "iopub.status.busy": "2021-05-04T12:10:30.356737Z",
     "iopub.status.idle": "2021-05-04T12:10:30.661975Z",
     "shell.execute_reply": "2021-05-04T12:10:30.662631Z"
    },
    "papermill": {
     "duration": 0.396301,
     "end_time": "2021-05-04T12:10:30.662820",
     "exception": false,
     "start_time": "2021-05-04T12:10:30.266519",
     "status": "completed"
    },
    "tags": []
   },
   "outputs": [
    {
     "data": {
      "image/png": "[encoded data removed]",
      "text/plain": [
       "<Figure size 504x360 with 1 Axes>"
      ]
     },
     "metadata": {
      "needs_background": "light"
     },
     "output_type": "display_data"
    }
   ],
   "source": [
    "# Visualize\n",
    "fig3, ax3 = plt.subplots()\n",
    "fig3.set_size_inches(7,5)\n",
    "sns.scatterplot(data=daily_rlength_avg, x='started_at', y='avg_daily_rlength', hue='season', palette='ocean_r')\n",
    "ax3.set_title('Daily Average of Ride Length', fontsize='16')\n",
    "ax3.set_xlabel('Date')\n",
    "ax3.set_ylabel('')\n",
    "ax3.legend(frameon=False, bbox_to_anchor=(1,0.5), loc='center left')\n",
    "fig3.show()"
   ]
  },
  {
   "cell_type": "code",
   "execution_count": 38,
   "id": "worse-dividend",
   "metadata": {
    "execution": {
     "iopub.execute_input": "2021-05-04T12:10:30.801749Z",
     "iopub.status.busy": "2021-05-04T12:10:30.800669Z",
     "iopub.status.idle": "2021-05-04T12:10:30.805574Z",
     "shell.execute_reply": "2021-05-04T12:10:30.806054Z"
    },
    "papermill": {
     "duration": 0.077551,
     "end_time": "2021-05-04T12:10:30.806239",
     "exception": false,
     "start_time": "2021-05-04T12:10:30.728688",
     "status": "completed"
    },
    "tags": []
   },
   "outputs": [
    {
     "name": "stdout",
     "output_type": "stream",
     "text": [
      "Correlation between daily average of ride length and seasons :  0.151\n"
     ]
    }
   ],
   "source": [
    "# Add season representation column 1=Winter 2=Spring 3=Summer 4=Autumn\n",
    "cor1 = daily_rlength_avg['avg_daily_rlength'].corr(daily_rlength_avg['season_rep'])\n",
    "print(\"Correlation between daily average of ride length and seasons : \", round(cor1,3))"
   ]
  },
  {
   "cell_type": "markdown",
   "id": "miniature-mechanics",
   "metadata": {
    "papermill": {
     "duration": 0.063841,
     "end_time": "2021-05-04T12:10:30.933975",
     "exception": false,
     "start_time": "2021-05-04T12:10:30.870134",
     "status": "completed"
    },
    "tags": []
   },
   "source": [
    "From scatterplot above, we can see that there is a slight decrease in average ride length from Summer until Winter and starts going up again in Spring. But, the correlation value is only **0.151** and it is really close to 0. Therefore we can conclude that **the seasons does not have a strong correlation with daily average of ride length**."
   ]
  },
  {
   "cell_type": "markdown",
   "id": "shaped-funds",
   "metadata": {
    "papermill": {
     "duration": 0.064077,
     "end_time": "2021-05-04T12:10:31.062385",
     "exception": false,
     "start_time": "2021-05-04T12:10:30.998308",
     "status": "completed"
    },
    "tags": []
   },
   "source": [
    "#### **4. What is the average number of rides on each name of the day of the week?**\n",
    "\n",
    "Since there is a correlation between seasons and number of rides, to answer this question the data will be grouped according to the corresponding season."
   ]
  },
  {
   "cell_type": "code",
   "execution_count": 39,
   "id": "appreciated-membership",
   "metadata": {
    "execution": {
     "iopub.execute_input": "2021-05-04T12:10:31.196059Z",
     "iopub.status.busy": "2021-05-04T12:10:31.195373Z",
     "iopub.status.idle": "2021-05-04T12:10:31.212613Z",
     "shell.execute_reply": "2021-05-04T12:10:31.212095Z"
    },
    "papermill": {
     "duration": 0.084,
     "end_time": "2021-05-04T12:10:31.212756",
     "exception": false,
     "start_time": "2021-05-04T12:10:31.128756",
     "status": "completed"
    },
    "tags": []
   },
   "outputs": [
    {
     "data": {
      "text/html": [
       "<div>\n",
       "<style scoped>\n",
       "    .dataframe tbody tr th:only-of-type {\n",
       "        vertical-align: middle;\n",
       "    }\n",
       "\n",
       "    .dataframe tbody tr th {\n",
       "        vertical-align: top;\n",
       "    }\n",
       "\n",
       "    .dataframe thead th {\n",
       "        text-align: right;\n",
       "    }\n",
       "</style>\n",
       "<table border=\"1\" class=\"dataframe\">\n",
       "  <thead>\n",
       "    <tr style=\"text-align: right;\">\n",
       "      <th></th>\n",
       "      <th>started_at</th>\n",
       "      <th>customer_type</th>\n",
       "      <th>daily_num_rides</th>\n",
       "      <th>month</th>\n",
       "      <th>season</th>\n",
       "      <th>season_rep</th>\n",
       "      <th>day_of_week</th>\n",
       "      <th>day</th>\n",
       "    </tr>\n",
       "  </thead>\n",
       "  <tbody>\n",
       "    <tr>\n",
       "      <th>0</th>\n",
       "      <td>2020-04-01</td>\n",
       "      <td>casual</td>\n",
       "      <td>355</td>\n",
       "      <td>4</td>\n",
       "      <td>Spring</td>\n",
       "      <td>2</td>\n",
       "      <td>Wednesday</td>\n",
       "      <td>2</td>\n",
       "    </tr>\n",
       "    <tr>\n",
       "      <th>1</th>\n",
       "      <td>2020-04-01</td>\n",
       "      <td>member</td>\n",
       "      <td>1839</td>\n",
       "      <td>4</td>\n",
       "      <td>Spring</td>\n",
       "      <td>2</td>\n",
       "      <td>Wednesday</td>\n",
       "      <td>2</td>\n",
       "    </tr>\n",
       "    <tr>\n",
       "      <th>2</th>\n",
       "      <td>2020-04-02</td>\n",
       "      <td>casual</td>\n",
       "      <td>443</td>\n",
       "      <td>4</td>\n",
       "      <td>Spring</td>\n",
       "      <td>2</td>\n",
       "      <td>Thursday</td>\n",
       "      <td>3</td>\n",
       "    </tr>\n",
       "    <tr>\n",
       "      <th>3</th>\n",
       "      <td>2020-04-02</td>\n",
       "      <td>member</td>\n",
       "      <td>1985</td>\n",
       "      <td>4</td>\n",
       "      <td>Spring</td>\n",
       "      <td>2</td>\n",
       "      <td>Thursday</td>\n",
       "      <td>3</td>\n",
       "    </tr>\n",
       "    <tr>\n",
       "      <th>4</th>\n",
       "      <td>2020-04-03</td>\n",
       "      <td>casual</td>\n",
       "      <td>786</td>\n",
       "      <td>4</td>\n",
       "      <td>Spring</td>\n",
       "      <td>2</td>\n",
       "      <td>Friday</td>\n",
       "      <td>4</td>\n",
       "    </tr>\n",
       "  </tbody>\n",
       "</table>\n",
       "</div>"
      ],
      "text/plain": [
       "  started_at customer_type  daily_num_rides  month  season  season_rep  \\\n",
       "0 2020-04-01        casual              355      4  Spring           2   \n",
       "1 2020-04-01        member             1839      4  Spring           2   \n",
       "2 2020-04-02        casual              443      4  Spring           2   \n",
       "3 2020-04-02        member             1985      4  Spring           2   \n",
       "4 2020-04-03        casual              786      4  Spring           2   \n",
       "\n",
       "  day_of_week  day  \n",
       "0   Wednesday    2  \n",
       "1   Wednesday    2  \n",
       "2    Thursday    3  \n",
       "3    Thursday    3  \n",
       "4      Friday    4  "
      ]
     },
     "execution_count": 39,
     "metadata": {},
     "output_type": "execute_result"
    }
   ],
   "source": [
    "# Create a new column with its value ranges from Monday to Sunday\n",
    "daily_rides_count['day_of_week'] = daily_rides_count['started_at'].dt.day_name()\n",
    "daily_rides_count['day'] = daily_rides_count['started_at'].dt.dayofweek.astype(int)\n",
    "\n",
    "daily_rides_count.head()"
   ]
  },
  {
   "cell_type": "code",
   "execution_count": 40,
   "id": "first-raleigh",
   "metadata": {
    "execution": {
     "iopub.execute_input": "2021-05-04T12:10:31.354174Z",
     "iopub.status.busy": "2021-05-04T12:10:31.353404Z",
     "iopub.status.idle": "2021-05-04T12:10:31.368122Z",
     "shell.execute_reply": "2021-05-04T12:10:31.368637Z"
    },
    "papermill": {
     "duration": 0.090046,
     "end_time": "2021-05-04T12:10:31.368834",
     "exception": false,
     "start_time": "2021-05-04T12:10:31.278788",
     "status": "completed"
    },
    "tags": []
   },
   "outputs": [
    {
     "data": {
      "text/html": [
       "<div>\n",
       "<style scoped>\n",
       "    .dataframe tbody tr th:only-of-type {\n",
       "        vertical-align: middle;\n",
       "    }\n",
       "\n",
       "    .dataframe tbody tr th {\n",
       "        vertical-align: top;\n",
       "    }\n",
       "\n",
       "    .dataframe thead th {\n",
       "        text-align: right;\n",
       "    }\n",
       "</style>\n",
       "<table border=\"1\" class=\"dataframe\">\n",
       "  <thead>\n",
       "    <tr style=\"text-align: right;\">\n",
       "      <th></th>\n",
       "      <th>season</th>\n",
       "      <th>day_of_week</th>\n",
       "      <th>day</th>\n",
       "      <th>daily_num_rides</th>\n",
       "    </tr>\n",
       "  </thead>\n",
       "  <tbody>\n",
       "    <tr>\n",
       "      <th>1</th>\n",
       "      <td>Autumn</td>\n",
       "      <td>Monday</td>\n",
       "      <td>0</td>\n",
       "      <td>5083.038462</td>\n",
       "    </tr>\n",
       "    <tr>\n",
       "      <th>22</th>\n",
       "      <td>Winter</td>\n",
       "      <td>Monday</td>\n",
       "      <td>0</td>\n",
       "      <td>1421.833333</td>\n",
       "    </tr>\n",
       "    <tr>\n",
       "      <th>15</th>\n",
       "      <td>Summer</td>\n",
       "      <td>Monday</td>\n",
       "      <td>0</td>\n",
       "      <td>5951.307692</td>\n",
       "    </tr>\n",
       "    <tr>\n",
       "      <th>8</th>\n",
       "      <td>Spring</td>\n",
       "      <td>Monday</td>\n",
       "      <td>0</td>\n",
       "      <td>2415.615385</td>\n",
       "    </tr>\n",
       "    <tr>\n",
       "      <th>19</th>\n",
       "      <td>Summer</td>\n",
       "      <td>Tuesday</td>\n",
       "      <td>1</td>\n",
       "      <td>6756.083333</td>\n",
       "    </tr>\n",
       "  </tbody>\n",
       "</table>\n",
       "</div>"
      ],
      "text/plain": [
       "    season day_of_week  day  daily_num_rides\n",
       "1   Autumn      Monday    0      5083.038462\n",
       "22  Winter      Monday    0      1421.833333\n",
       "15  Summer      Monday    0      5951.307692\n",
       "8   Spring      Monday    0      2415.615385\n",
       "19  Summer     Tuesday    1      6756.083333"
      ]
     },
     "execution_count": 40,
     "metadata": {},
     "output_type": "execute_result"
    }
   ],
   "source": [
    "# Group data by season and day_of_week\n",
    "day_rides = daily_rides_count.groupby(['season','day_of_week','day'])['daily_num_rides'].mean().reset_index()\n",
    "\n",
    "# Sort by day_of_week in ascending order from Monday to Sunday\n",
    "day_rides = day_rides.sort_values(by='day')\n",
    "day_rides.head()"
   ]
  },
  {
   "cell_type": "code",
   "execution_count": 41,
   "id": "yellow-bargain",
   "metadata": {
    "execution": {
     "iopub.execute_input": "2021-05-04T12:10:31.503658Z",
     "iopub.status.busy": "2021-05-04T12:10:31.503043Z",
     "iopub.status.idle": "2021-05-04T12:10:31.738033Z",
     "shell.execute_reply": "2021-05-04T12:10:31.737349Z"
    },
    "papermill": {
     "duration": 0.302944,
     "end_time": "2021-05-04T12:10:31.738177",
     "exception": false,
     "start_time": "2021-05-04T12:10:31.435233",
     "status": "completed"
    },
    "tags": []
   },
   "outputs": [
    {
     "data": {
      "image/png": "[encoded data removed]",
      "text/plain": [
       "<Figure size 504x360 with 1 Axes>"
      ]
     },
     "metadata": {
      "needs_background": "light"
     },
     "output_type": "display_data"
    }
   ],
   "source": [
    "fig4, ax4 = plt.subplots()\n",
    "fig4.set_size_inches(7,5)\n",
    "sns.lineplot(x='day_of_week',y='daily_num_rides', hue='season', data=day_rides, palette='cubehelix')\n",
    "ax4.set_title('Average Number of Rides on Each Day of The Week', fontsize='16')\n",
    "ax4.set_xlabel('Name of The Day')\n",
    "ax4.set_ylabel('Average Number of Rides')\n",
    "ax4.legend(frameon=False, bbox_to_anchor=(1,0.5), loc='center left')\n",
    "fig4.show()\n"
   ]
  },
  {
   "cell_type": "markdown",
   "id": "answering-vampire",
   "metadata": {
    "papermill": {
     "duration": 0.066326,
     "end_time": "2021-05-04T12:10:31.871072",
     "exception": false,
     "start_time": "2021-05-04T12:10:31.804746",
     "status": "completed"
    },
    "tags": []
   },
   "source": [
    "The linechart above shows that **the number of rides tend to increase on Friday and Saturday in Spring, Summer, and Autumn**."
   ]
  },
  {
   "cell_type": "markdown",
   "id": "generic-despite",
   "metadata": {
    "papermill": {
     "duration": 0.066476,
     "end_time": "2021-05-04T12:10:32.004457",
     "exception": false,
     "start_time": "2021-05-04T12:10:31.937981",
     "status": "completed"
    },
    "tags": []
   },
   "source": [
    "#### **5. What is the average ride length on each name of the day of the week?**"
   ]
  },
  {
   "cell_type": "code",
   "execution_count": 42,
   "id": "continued-spirituality",
   "metadata": {
    "execution": {
     "iopub.execute_input": "2021-05-04T12:10:32.147784Z",
     "iopub.status.busy": "2021-05-04T12:10:32.146492Z",
     "iopub.status.idle": "2021-05-04T12:10:32.158941Z",
     "shell.execute_reply": "2021-05-04T12:10:32.159482Z"
    },
    "papermill": {
     "duration": 0.087857,
     "end_time": "2021-05-04T12:10:32.159653",
     "exception": false,
     "start_time": "2021-05-04T12:10:32.071796",
     "status": "completed"
    },
    "tags": []
   },
   "outputs": [
    {
     "data": {
      "text/html": [
       "<div>\n",
       "<style scoped>\n",
       "    .dataframe tbody tr th:only-of-type {\n",
       "        vertical-align: middle;\n",
       "    }\n",
       "\n",
       "    .dataframe tbody tr th {\n",
       "        vertical-align: top;\n",
       "    }\n",
       "\n",
       "    .dataframe thead th {\n",
       "        text-align: right;\n",
       "    }\n",
       "</style>\n",
       "<table border=\"1\" class=\"dataframe\">\n",
       "  <thead>\n",
       "    <tr style=\"text-align: right;\">\n",
       "      <th></th>\n",
       "      <th>started_at</th>\n",
       "      <th>customer_type</th>\n",
       "      <th>avg_daily_rlength</th>\n",
       "      <th>month</th>\n",
       "      <th>season</th>\n",
       "      <th>season_rep</th>\n",
       "      <th>day_of_week</th>\n",
       "      <th>day</th>\n",
       "    </tr>\n",
       "  </thead>\n",
       "  <tbody>\n",
       "    <tr>\n",
       "      <th>0</th>\n",
       "      <td>2020-04-01</td>\n",
       "      <td>casual</td>\n",
       "      <td>23.412629</td>\n",
       "      <td>4</td>\n",
       "      <td>Spring</td>\n",
       "      <td>2</td>\n",
       "      <td>Wednesday</td>\n",
       "      <td>2</td>\n",
       "    </tr>\n",
       "    <tr>\n",
       "      <th>1</th>\n",
       "      <td>2020-04-01</td>\n",
       "      <td>member</td>\n",
       "      <td>15.199311</td>\n",
       "      <td>4</td>\n",
       "      <td>Spring</td>\n",
       "      <td>2</td>\n",
       "      <td>Wednesday</td>\n",
       "      <td>2</td>\n",
       "    </tr>\n",
       "    <tr>\n",
       "      <th>2</th>\n",
       "      <td>2020-04-02</td>\n",
       "      <td>casual</td>\n",
       "      <td>23.188450</td>\n",
       "      <td>4</td>\n",
       "      <td>Spring</td>\n",
       "      <td>2</td>\n",
       "      <td>Thursday</td>\n",
       "      <td>3</td>\n",
       "    </tr>\n",
       "    <tr>\n",
       "      <th>3</th>\n",
       "      <td>2020-04-02</td>\n",
       "      <td>member</td>\n",
       "      <td>15.776373</td>\n",
       "      <td>4</td>\n",
       "      <td>Spring</td>\n",
       "      <td>2</td>\n",
       "      <td>Thursday</td>\n",
       "      <td>3</td>\n",
       "    </tr>\n",
       "    <tr>\n",
       "      <th>4</th>\n",
       "      <td>2020-04-03</td>\n",
       "      <td>casual</td>\n",
       "      <td>24.452587</td>\n",
       "      <td>4</td>\n",
       "      <td>Spring</td>\n",
       "      <td>2</td>\n",
       "      <td>Friday</td>\n",
       "      <td>4</td>\n",
       "    </tr>\n",
       "  </tbody>\n",
       "</table>\n",
       "</div>"
      ],
      "text/plain": [
       "  started_at customer_type  avg_daily_rlength  month  season  season_rep  \\\n",
       "0 2020-04-01        casual          23.412629      4  Spring           2   \n",
       "1 2020-04-01        member          15.199311      4  Spring           2   \n",
       "2 2020-04-02        casual          23.188450      4  Spring           2   \n",
       "3 2020-04-02        member          15.776373      4  Spring           2   \n",
       "4 2020-04-03        casual          24.452587      4  Spring           2   \n",
       "\n",
       "  day_of_week  day  \n",
       "0   Wednesday    2  \n",
       "1   Wednesday    2  \n",
       "2    Thursday    3  \n",
       "3    Thursday    3  \n",
       "4      Friday    4  "
      ]
     },
     "execution_count": 42,
     "metadata": {},
     "output_type": "execute_result"
    }
   ],
   "source": [
    "# Create a new column with its value ranges from Monday to Sunday\n",
    "daily_rlength_avg['day_of_week'] = daily_rlength_avg['started_at'].dt.day_name()\n",
    "daily_rlength_avg['day'] = daily_rlength_avg['started_at'].dt.dayofweek.astype(int)\n",
    "\n",
    "daily_rlength_avg.head()"
   ]
  },
  {
   "cell_type": "code",
   "execution_count": 43,
   "id": "therapeutic-mandate",
   "metadata": {
    "execution": {
     "iopub.execute_input": "2021-05-04T12:10:32.300476Z",
     "iopub.status.busy": "2021-05-04T12:10:32.299736Z",
     "iopub.status.idle": "2021-05-04T12:10:32.316328Z",
     "shell.execute_reply": "2021-05-04T12:10:32.315769Z"
    },
    "papermill": {
     "duration": 0.086507,
     "end_time": "2021-05-04T12:10:32.316479",
     "exception": false,
     "start_time": "2021-05-04T12:10:32.229972",
     "status": "completed"
    },
    "tags": []
   },
   "outputs": [
    {
     "data": {
      "text/html": [
       "<div>\n",
       "<style scoped>\n",
       "    .dataframe tbody tr th:only-of-type {\n",
       "        vertical-align: middle;\n",
       "    }\n",
       "\n",
       "    .dataframe tbody tr th {\n",
       "        vertical-align: top;\n",
       "    }\n",
       "\n",
       "    .dataframe thead th {\n",
       "        text-align: right;\n",
       "    }\n",
       "</style>\n",
       "<table border=\"1\" class=\"dataframe\">\n",
       "  <thead>\n",
       "    <tr style=\"text-align: right;\">\n",
       "      <th></th>\n",
       "      <th>day_of_week</th>\n",
       "      <th>day</th>\n",
       "      <th>avg_daily_rlength</th>\n",
       "    </tr>\n",
       "  </thead>\n",
       "  <tbody>\n",
       "    <tr>\n",
       "      <th>1</th>\n",
       "      <td>Monday</td>\n",
       "      <td>0</td>\n",
       "      <td>16.048630</td>\n",
       "    </tr>\n",
       "    <tr>\n",
       "      <th>5</th>\n",
       "      <td>Tuesday</td>\n",
       "      <td>1</td>\n",
       "      <td>15.829268</td>\n",
       "    </tr>\n",
       "    <tr>\n",
       "      <th>6</th>\n",
       "      <td>Wednesday</td>\n",
       "      <td>2</td>\n",
       "      <td>15.912646</td>\n",
       "    </tr>\n",
       "    <tr>\n",
       "      <th>4</th>\n",
       "      <td>Thursday</td>\n",
       "      <td>3</td>\n",
       "      <td>15.825613</td>\n",
       "    </tr>\n",
       "    <tr>\n",
       "      <th>0</th>\n",
       "      <td>Friday</td>\n",
       "      <td>4</td>\n",
       "      <td>16.152774</td>\n",
       "    </tr>\n",
       "  </tbody>\n",
       "</table>\n",
       "</div>"
      ],
      "text/plain": [
       "  day_of_week  day  avg_daily_rlength\n",
       "1      Monday    0          16.048630\n",
       "5     Tuesday    1          15.829268\n",
       "6   Wednesday    2          15.912646\n",
       "4    Thursday    3          15.825613\n",
       "0      Friday    4          16.152774"
      ]
     },
     "execution_count": 43,
     "metadata": {},
     "output_type": "execute_result"
    }
   ],
   "source": [
    "# Group data by season and day_of_week\n",
    "day_rlength = daily_rlength_avg.groupby(['day_of_week','day'])['avg_daily_rlength'].mean().reset_index()\n",
    "\n",
    "# Sort by day_of_week in ascending order from Monday to Sunday\n",
    "day_rlength = day_rlength.sort_values(by='day')\n",
    "day_rlength.head()"
   ]
  },
  {
   "cell_type": "code",
   "execution_count": 44,
   "id": "ready-baseball",
   "metadata": {
    "execution": {
     "iopub.execute_input": "2021-05-04T12:10:32.482858Z",
     "iopub.status.busy": "2021-05-04T12:10:32.481508Z",
     "iopub.status.idle": "2021-05-04T12:10:32.630888Z",
     "shell.execute_reply": "2021-05-04T12:10:32.630277Z"
    },
    "papermill": {
     "duration": 0.245812,
     "end_time": "2021-05-04T12:10:32.631037",
     "exception": false,
     "start_time": "2021-05-04T12:10:32.385225",
     "status": "completed"
    },
    "tags": []
   },
   "outputs": [
    {
     "data": {
      "image/png": "[encoded data removed]",
      "text/plain": [
       "<Figure size 504x360 with 1 Axes>"
      ]
     },
     "metadata": {
      "needs_background": "light"
     },
     "output_type": "display_data"
    }
   ],
   "source": [
    "fig5, ax5 = plt.subplots()\n",
    "fig5.set_size_inches(7,5)\n",
    "sns.lineplot(x='day_of_week',y='avg_daily_rlength', data=day_rlength, color='red')\n",
    "ax5.set_title('Average Ride Length on Each Day of The Week', fontsize='16')\n",
    "ax5.set_xlabel('Name of The Day')\n",
    "ax5.set_ylabel('Average Ride Length')\n",
    "ax5.legend(frameon=False, bbox_to_anchor=(1,0.5), loc='center left')\n",
    "ax5.set(ylim=(15,20))\n",
    "ax5.yaxis.set_major_formatter(ticker.EngFormatter())\n",
    "fig5.show()"
   ]
  },
  {
   "cell_type": "markdown",
   "id": "present-holder",
   "metadata": {
    "papermill": {
     "duration": 0.06932,
     "end_time": "2021-05-04T12:10:32.770443",
     "exception": false,
     "start_time": "2021-05-04T12:10:32.701123",
     "status": "completed"
    },
    "tags": []
   },
   "source": [
    "The chart above also shows that **the average ride length tend to increase on Friday and Saturday**"
   ]
  },
  {
   "cell_type": "markdown",
   "id": "otherwise-paragraph",
   "metadata": {
    "papermill": {
     "duration": 0.068643,
     "end_time": "2021-05-04T12:10:32.908750",
     "exception": false,
     "start_time": "2021-05-04T12:10:32.840107",
     "status": "completed"
    },
    "tags": []
   },
   "source": [
    "#### **5. Which stations do casual riders often visit?**"
   ]
  },
  {
   "cell_type": "code",
   "execution_count": 45,
   "id": "collective-spread",
   "metadata": {
    "execution": {
     "iopub.execute_input": "2021-05-04T12:10:33.404915Z",
     "iopub.status.busy": "2021-05-04T12:10:33.195726Z",
     "iopub.status.idle": "2021-05-04T12:10:34.160996Z",
     "shell.execute_reply": "2021-05-04T12:10:34.160389Z"
    },
    "papermill": {
     "duration": 1.182924,
     "end_time": "2021-05-04T12:10:34.161151",
     "exception": false,
     "start_time": "2021-05-04T12:10:32.978227",
     "status": "completed"
    },
    "tags": []
   },
   "outputs": [
    {
     "data": {
      "text/html": [
       "<div>\n",
       "<style scoped>\n",
       "    .dataframe tbody tr th:only-of-type {\n",
       "        vertical-align: middle;\n",
       "    }\n",
       "\n",
       "    .dataframe tbody tr th {\n",
       "        vertical-align: top;\n",
       "    }\n",
       "\n",
       "    .dataframe thead th {\n",
       "        text-align: right;\n",
       "    }\n",
       "</style>\n",
       "<table border=\"1\" class=\"dataframe\">\n",
       "  <thead>\n",
       "    <tr style=\"text-align: right;\">\n",
       "      <th></th>\n",
       "      <th>start_station_name</th>\n",
       "      <th>customer_type</th>\n",
       "      <th>num_of_visits</th>\n",
       "    </tr>\n",
       "  </thead>\n",
       "  <tbody>\n",
       "    <tr>\n",
       "      <th>1195</th>\n",
       "      <td>Streeter Dr &amp; Grand Av</td>\n",
       "      <td>casual</td>\n",
       "      <td>19279</td>\n",
       "    </tr>\n",
       "    <tr>\n",
       "      <th>721</th>\n",
       "      <td>Lake Shore Dr &amp; Monroe St</td>\n",
       "      <td>casual</td>\n",
       "      <td>15100</td>\n",
       "    </tr>\n",
       "    <tr>\n",
       "      <th>883</th>\n",
       "      <td>Millennium Park</td>\n",
       "      <td>casual</td>\n",
       "      <td>13181</td>\n",
       "    </tr>\n",
       "    <tr>\n",
       "      <th>1201</th>\n",
       "      <td>Theater on the Lak</td>\n",
       "      <td>casual</td>\n",
       "      <td>12391</td>\n",
       "    </tr>\n",
       "    <tr>\n",
       "      <th>269</th>\n",
       "      <td>Clark St &amp; Elm St</td>\n",
       "      <td>casual</td>\n",
       "      <td>10615</td>\n",
       "    </tr>\n",
       "  </tbody>\n",
       "</table>\n",
       "</div>"
      ],
      "text/plain": [
       "             start_station_name customer_type  num_of_visits\n",
       "1195     Streeter Dr & Grand Av        casual          19279\n",
       "721   Lake Shore Dr & Monroe St        casual          15100\n",
       "883             Millennium Park        casual          13181\n",
       "1201         Theater on the Lak        casual          12391\n",
       "269           Clark St & Elm St        casual          10615"
      ]
     },
     "execution_count": 45,
     "metadata": {},
     "output_type": "execute_result"
    }
   ],
   "source": [
    "# Group data by start station name\n",
    "start_stations = bike_data_v3.groupby(['start_station_name','customer_type'])['ride_length'].count().reset_index()\n",
    "start_stations = start_stations.rename(columns={'ride_length':'num_of_visits'})\n",
    "start_stations = start_stations[(start_stations['customer_type']=='casual') & \n",
    "                                (start_stations['start_station_name']!='Unknown')].sort_values(by='num_of_visits', ascending=False)\n",
    "start_stations = start_stations.head()\n",
    "start_stations"
   ]
  },
  {
   "cell_type": "code",
   "execution_count": 46,
   "id": "inappropriate-nursing",
   "metadata": {
    "execution": {
     "iopub.execute_input": "2021-05-04T12:10:34.666755Z",
     "iopub.status.busy": "2021-05-04T12:10:34.665757Z",
     "iopub.status.idle": "2021-05-04T12:10:35.418086Z",
     "shell.execute_reply": "2021-05-04T12:10:35.417419Z"
    },
    "papermill": {
     "duration": 1.187509,
     "end_time": "2021-05-04T12:10:35.418239",
     "exception": false,
     "start_time": "2021-05-04T12:10:34.230730",
     "status": "completed"
    },
    "tags": []
   },
   "outputs": [
    {
     "data": {
      "text/html": [
       "<div>\n",
       "<style scoped>\n",
       "    .dataframe tbody tr th:only-of-type {\n",
       "        vertical-align: middle;\n",
       "    }\n",
       "\n",
       "    .dataframe tbody tr th {\n",
       "        vertical-align: top;\n",
       "    }\n",
       "\n",
       "    .dataframe thead th {\n",
       "        text-align: right;\n",
       "    }\n",
       "</style>\n",
       "<table border=\"1\" class=\"dataframe\">\n",
       "  <thead>\n",
       "    <tr style=\"text-align: right;\">\n",
       "      <th></th>\n",
       "      <th>end_station_name</th>\n",
       "      <th>customer_type</th>\n",
       "      <th>num_of_visits</th>\n",
       "    </tr>\n",
       "  </thead>\n",
       "  <tbody>\n",
       "    <tr>\n",
       "      <th>1193</th>\n",
       "      <td>Streeter Dr &amp; Grand Av</td>\n",
       "      <td>casual</td>\n",
       "      <td>20523</td>\n",
       "    </tr>\n",
       "    <tr>\n",
       "      <th>881</th>\n",
       "      <td>Millennium Park</td>\n",
       "      <td>casual</td>\n",
       "      <td>14272</td>\n",
       "    </tr>\n",
       "    <tr>\n",
       "      <th>720</th>\n",
       "      <td>Lake Shore Dr &amp; Monroe St</td>\n",
       "      <td>casual</td>\n",
       "      <td>14251</td>\n",
       "    </tr>\n",
       "    <tr>\n",
       "      <th>1199</th>\n",
       "      <td>Theater on the Lak</td>\n",
       "      <td>casual</td>\n",
       "      <td>13442</td>\n",
       "    </tr>\n",
       "    <tr>\n",
       "      <th>722</th>\n",
       "      <td>Lake Shore Dr &amp; North Blvd</td>\n",
       "      <td>casual</td>\n",
       "      <td>11020</td>\n",
       "    </tr>\n",
       "  </tbody>\n",
       "</table>\n",
       "</div>"
      ],
      "text/plain": [
       "                end_station_name customer_type  num_of_visits\n",
       "1193      Streeter Dr & Grand Av        casual          20523\n",
       "881              Millennium Park        casual          14272\n",
       "720    Lake Shore Dr & Monroe St        casual          14251\n",
       "1199          Theater on the Lak        casual          13442\n",
       "722   Lake Shore Dr & North Blvd        casual          11020"
      ]
     },
     "execution_count": 46,
     "metadata": {},
     "output_type": "execute_result"
    }
   ],
   "source": [
    "# Group data by end station name\n",
    "end_stations = bike_data_v3.groupby(['end_station_name','customer_type'])['ride_length'].count().reset_index()\n",
    "end_stations = end_stations.rename(columns={'ride_length':'num_of_visits'})\n",
    "end_stations = end_stations[(end_stations['customer_type']=='casual') & \n",
    "                                (end_stations['end_station_name']!='Unknown')].sort_values(by='num_of_visits', ascending=False)\n",
    "end_stations = end_stations.head()\n",
    "end_stations"
   ]
  },
  {
   "cell_type": "code",
   "execution_count": 47,
   "id": "indian-november",
   "metadata": {
    "execution": {
     "iopub.execute_input": "2021-05-04T12:10:35.606192Z",
     "iopub.status.busy": "2021-05-04T12:10:35.583772Z",
     "iopub.status.idle": "2021-05-04T12:10:36.127996Z",
     "shell.execute_reply": "2021-05-04T12:10:36.127423Z"
    },
    "papermill": {
     "duration": 0.639457,
     "end_time": "2021-05-04T12:10:36.128171",
     "exception": false,
     "start_time": "2021-05-04T12:10:35.488714",
     "status": "completed"
    },
    "tags": []
   },
   "outputs": [
    {
     "data": {
      "image/png": "[encoded data removed]",
      "text/plain": [
       "<Figure size 504x360 with 2 Axes>"
      ]
     },
     "metadata": {
      "needs_background": "light"
     },
     "output_type": "display_data"
    }
   ],
   "source": [
    "fig6, ax6 = plt.subplots(nrows=2, constrained_layout=True,sharex=True)\n",
    "fig6.set_size_inches(7,5)\n",
    "fig6.suptitle('Most Visited Stations by Casual Riders', fontsize=16)\n",
    "sns.barplot(x= 'num_of_visits', y='start_station_name', data = start_stations, palette='magma', ax=ax6[0])\n",
    "sns.barplot(x= 'num_of_visits', y='end_station_name', data = end_stations, palette='crest', ax=ax6[1])\n",
    "ax6[0].set_title('Start Stations', fontsize=14)\n",
    "ax6[1].set_title('End Stations', fontsize=14)\n",
    "ax6[0].set_xlabel('')\n",
    "ax6[0].set_ylabel('')\n",
    "ax6[1].set_xlabel('')\n",
    "ax6[1].set_ylabel('')\n",
    "fig6.supxlabel('Number of Visits')\n",
    "fig6.supylabel('Station Name')\n",
    "fig6.show()"
   ]
  },
  {
   "cell_type": "markdown",
   "id": "pursuant-circulation",
   "metadata": {
    "papermill": {
     "duration": 0.071568,
     "end_time": "2021-05-04T12:10:36.272119",
     "exception": false,
     "start_time": "2021-05-04T12:10:36.200551",
     "status": "completed"
    },
    "tags": []
   },
   "source": [
    "Horizontal barcharts above show that **most casual riders starts or ends their trip in recreational areas**. Note: Trip data which have missing start and end station name are not included for this question."
   ]
  },
  {
   "cell_type": "markdown",
   "id": "every-welsh",
   "metadata": {
    "papermill": {
     "duration": 0.071351,
     "end_time": "2021-05-04T12:10:36.418259",
     "exception": false,
     "start_time": "2021-05-04T12:10:36.346908",
     "status": "completed"
    },
    "tags": []
   },
   "source": [
    "### **Conclusion**\n",
    "From the analysis, we can conclude:\n",
    "1. Casual riders have the longest ride length with an average of 19.45 minutes, while annual members have an average of 14.33 minutes.\n",
    "2. There is a quite strong correlation between seasons and number of rides.\n",
    "3. There is no strong correlation between seasons and ride length.\n",
    "4. The number of rides increases on Friday and Saturday with the peak is on Saturday.\n",
    "5. The Ride length increases on Friday, Saturday, and Sunday with the peak is on Saturday.\n",
    "6. Most casual riders starts or ends their trip in recreational areas"
   ]
  },
  {
   "cell_type": "markdown",
   "id": "meaningful-caribbean",
   "metadata": {
    "papermill": {
     "duration": 0.071266,
     "end_time": "2021-05-04T12:10:36.561404",
     "exception": false,
     "start_time": "2021-05-04T12:10:36.490138",
     "status": "completed"
    },
    "tags": []
   },
   "source": [
    "### **Recommendation**\n",
    "Marketing strategies to convert casual riders into annual members:\n",
    "1. Create a seasonal discount for new members (Ex: Summer special price, Spring special offers: Buy 12 months membership get free 1 month membership)\n",
    "2. Members only discount price for ride length more than 45 minutes on Friday-Sunday. (Ex: discount from 0.17 dollar/min to 0.14 dollar/min)\n",
    "3. Cooperate with recreational places to get special ticket price / food discount for new divvy members.\n",
    "4. Place promotional membership invitation advertisements on most visited stations by casual riders."
   ]
  }
 ],
 "metadata": {
  "kernelspec": {
   "display_name": "Python 3",
   "language": "python",
   "name": "python3"
  },
  "language_info": {
   "codemirror_mode": {
    "name": "ipython",
    "version": 3
   },
   "file_extension": ".py",
   "mimetype": "text/x-python",
   "name": "python",
   "nbconvert_exporter": "python",
   "pygments_lexer": "ipython3",
   "version": "3.11.4"
  },
  "papermill": {
   "default_parameters": {},
   "duration": 90.949787,
   "end_time": "2021-05-04T12:10:39.307992",
   "environment_variables": {},
   "exception": null,
   "input_path": "__notebook__.ipynb",
   "output_path": "__notebook__.ipynb",
   "parameters": {},
   "start_time": "2021-05-04T12:09:08.358205",
   "version": "2.3.3"
  }
 },
 "nbformat": 4,
 "nbformat_minor": 5
}
